{
 "cells": [
  {
   "cell_type": "code",
   "execution_count": 79,
   "id": "3ccf93be",
   "metadata": {},
   "outputs": [],
   "source": [
    "import numpy as np\n",
    "import pandas as pd\n",
    "import matplotlib.pyplot as plt\n",
    "import seaborn as sns"
   ]
  },
  {
   "cell_type": "code",
   "execution_count": 80,
   "id": "a01cfdf6",
   "metadata": {},
   "outputs": [],
   "source": [
    "data_path = 'C:\\\\Users\\\\ahmad\\\\Documents\\\\ML Projects\\\\Laptop Price Prediction\\\\data\\\\laptop_data.csv'"
   ]
  },
  {
   "cell_type": "code",
   "execution_count": 81,
   "id": "c368e6e2",
   "metadata": {},
   "outputs": [
    {
     "data": {
      "application/vnd.microsoft.datawrangler.viewer.v0+json": {
       "columns": [
        {
         "name": "index",
         "rawType": "int64",
         "type": "integer"
        },
        {
         "name": "Unnamed: 0",
         "rawType": "float64",
         "type": "float"
        },
        {
         "name": "Company",
         "rawType": "object",
         "type": "string"
        },
        {
         "name": "TypeName",
         "rawType": "object",
         "type": "string"
        },
        {
         "name": "Inches",
         "rawType": "float64",
         "type": "float"
        },
        {
         "name": "ScreenResolution",
         "rawType": "object",
         "type": "string"
        },
        {
         "name": "Cpu",
         "rawType": "object",
         "type": "string"
        },
        {
         "name": "Ram",
         "rawType": "object",
         "type": "string"
        },
        {
         "name": "Memory",
         "rawType": "object",
         "type": "string"
        },
        {
         "name": "Gpu",
         "rawType": "object",
         "type": "string"
        },
        {
         "name": "OpSys",
         "rawType": "object",
         "type": "string"
        },
        {
         "name": "Weight",
         "rawType": "object",
         "type": "string"
        },
        {
         "name": "Price",
         "rawType": "float64",
         "type": "float"
        }
       ],
       "ref": "c76fae61-9ba1-476b-b940-1bd7b7ead144",
       "rows": [
        [
         "0",
         "0.0",
         "Apple",
         "Ultrabook",
         "13.3",
         "IPS Panel Retina Display 2560x1600",
         "Intel Core i5 2.3GHz",
         "8GB",
         "128GB SSD",
         "Intel Iris Plus Graphics 640",
         "macOS",
         "1.37kg",
         "71378.6832"
        ],
        [
         "1",
         "1.0",
         "Apple",
         "Ultrabook",
         "13.3",
         "1440x900",
         "Intel Core i5 1.8GHz",
         "8GB",
         "128GB Flash Storage",
         "Intel HD Graphics 6000",
         "macOS",
         "1.34kg",
         "47895.5232"
        ],
        [
         "2",
         "2.0",
         "HP",
         "Notebook",
         "15.6",
         "Full HD 1920x1080",
         "Intel Core i5 7200U 2.5GHz",
         "8GB",
         "256GB SSD",
         "Intel HD Graphics 620",
         "No OS",
         "1.86kg",
         "30636.0"
        ],
        [
         "3",
         "3.0",
         "Apple",
         "Ultrabook",
         "15.4",
         "IPS Panel Retina Display 2880x1800",
         "Intel Core i7 2.7GHz",
         "16GB",
         "512GB SSD",
         "AMD Radeon Pro 455",
         "macOS",
         "1.83kg",
         "135195.336"
        ],
        [
         "4",
         "4.0",
         "Apple",
         "Ultrabook",
         "13.3",
         "IPS Panel Retina Display 2560x1600",
         "Intel Core i5 3.1GHz",
         "8GB",
         "256GB SSD",
         "Intel Iris Plus Graphics 650",
         "macOS",
         "1.37kg",
         "96095.808"
        ]
       ],
       "shape": {
        "columns": 12,
        "rows": 5
       }
      },
      "text/html": [
       "<div>\n",
       "<style scoped>\n",
       "    .dataframe tbody tr th:only-of-type {\n",
       "        vertical-align: middle;\n",
       "    }\n",
       "\n",
       "    .dataframe tbody tr th {\n",
       "        vertical-align: top;\n",
       "    }\n",
       "\n",
       "    .dataframe thead th {\n",
       "        text-align: right;\n",
       "    }\n",
       "</style>\n",
       "<table border=\"1\" class=\"dataframe\">\n",
       "  <thead>\n",
       "    <tr style=\"text-align: right;\">\n",
       "      <th></th>\n",
       "      <th>Unnamed: 0</th>\n",
       "      <th>Company</th>\n",
       "      <th>TypeName</th>\n",
       "      <th>Inches</th>\n",
       "      <th>ScreenResolution</th>\n",
       "      <th>Cpu</th>\n",
       "      <th>Ram</th>\n",
       "      <th>Memory</th>\n",
       "      <th>Gpu</th>\n",
       "      <th>OpSys</th>\n",
       "      <th>Weight</th>\n",
       "      <th>Price</th>\n",
       "    </tr>\n",
       "  </thead>\n",
       "  <tbody>\n",
       "    <tr>\n",
       "      <th>0</th>\n",
       "      <td>0.0</td>\n",
       "      <td>Apple</td>\n",
       "      <td>Ultrabook</td>\n",
       "      <td>13.3</td>\n",
       "      <td>IPS Panel Retina Display 2560x1600</td>\n",
       "      <td>Intel Core i5 2.3GHz</td>\n",
       "      <td>8GB</td>\n",
       "      <td>128GB SSD</td>\n",
       "      <td>Intel Iris Plus Graphics 640</td>\n",
       "      <td>macOS</td>\n",
       "      <td>1.37kg</td>\n",
       "      <td>71378.6832</td>\n",
       "    </tr>\n",
       "    <tr>\n",
       "      <th>1</th>\n",
       "      <td>1.0</td>\n",
       "      <td>Apple</td>\n",
       "      <td>Ultrabook</td>\n",
       "      <td>13.3</td>\n",
       "      <td>1440x900</td>\n",
       "      <td>Intel Core i5 1.8GHz</td>\n",
       "      <td>8GB</td>\n",
       "      <td>128GB Flash Storage</td>\n",
       "      <td>Intel HD Graphics 6000</td>\n",
       "      <td>macOS</td>\n",
       "      <td>1.34kg</td>\n",
       "      <td>47895.5232</td>\n",
       "    </tr>\n",
       "    <tr>\n",
       "      <th>2</th>\n",
       "      <td>2.0</td>\n",
       "      <td>HP</td>\n",
       "      <td>Notebook</td>\n",
       "      <td>15.6</td>\n",
       "      <td>Full HD 1920x1080</td>\n",
       "      <td>Intel Core i5 7200U 2.5GHz</td>\n",
       "      <td>8GB</td>\n",
       "      <td>256GB SSD</td>\n",
       "      <td>Intel HD Graphics 620</td>\n",
       "      <td>No OS</td>\n",
       "      <td>1.86kg</td>\n",
       "      <td>30636.0000</td>\n",
       "    </tr>\n",
       "    <tr>\n",
       "      <th>3</th>\n",
       "      <td>3.0</td>\n",
       "      <td>Apple</td>\n",
       "      <td>Ultrabook</td>\n",
       "      <td>15.4</td>\n",
       "      <td>IPS Panel Retina Display 2880x1800</td>\n",
       "      <td>Intel Core i7 2.7GHz</td>\n",
       "      <td>16GB</td>\n",
       "      <td>512GB SSD</td>\n",
       "      <td>AMD Radeon Pro 455</td>\n",
       "      <td>macOS</td>\n",
       "      <td>1.83kg</td>\n",
       "      <td>135195.3360</td>\n",
       "    </tr>\n",
       "    <tr>\n",
       "      <th>4</th>\n",
       "      <td>4.0</td>\n",
       "      <td>Apple</td>\n",
       "      <td>Ultrabook</td>\n",
       "      <td>13.3</td>\n",
       "      <td>IPS Panel Retina Display 2560x1600</td>\n",
       "      <td>Intel Core i5 3.1GHz</td>\n",
       "      <td>8GB</td>\n",
       "      <td>256GB SSD</td>\n",
       "      <td>Intel Iris Plus Graphics 650</td>\n",
       "      <td>macOS</td>\n",
       "      <td>1.37kg</td>\n",
       "      <td>96095.8080</td>\n",
       "    </tr>\n",
       "  </tbody>\n",
       "</table>\n",
       "</div>"
      ],
      "text/plain": [
       "   Unnamed: 0 Company   TypeName  Inches                    ScreenResolution  \\\n",
       "0         0.0   Apple  Ultrabook    13.3  IPS Panel Retina Display 2560x1600   \n",
       "1         1.0   Apple  Ultrabook    13.3                            1440x900   \n",
       "2         2.0      HP   Notebook    15.6                   Full HD 1920x1080   \n",
       "3         3.0   Apple  Ultrabook    15.4  IPS Panel Retina Display 2880x1800   \n",
       "4         4.0   Apple  Ultrabook    13.3  IPS Panel Retina Display 2560x1600   \n",
       "\n",
       "                          Cpu   Ram               Memory  \\\n",
       "0        Intel Core i5 2.3GHz   8GB            128GB SSD   \n",
       "1        Intel Core i5 1.8GHz   8GB  128GB Flash Storage   \n",
       "2  Intel Core i5 7200U 2.5GHz   8GB            256GB SSD   \n",
       "3        Intel Core i7 2.7GHz  16GB            512GB SSD   \n",
       "4        Intel Core i5 3.1GHz   8GB            256GB SSD   \n",
       "\n",
       "                            Gpu  OpSys  Weight        Price  \n",
       "0  Intel Iris Plus Graphics 640  macOS  1.37kg   71378.6832  \n",
       "1        Intel HD Graphics 6000  macOS  1.34kg   47895.5232  \n",
       "2         Intel HD Graphics 620  No OS  1.86kg   30636.0000  \n",
       "3            AMD Radeon Pro 455  macOS  1.83kg  135195.3360  \n",
       "4  Intel Iris Plus Graphics 650  macOS  1.37kg   96095.8080  "
      ]
     },
     "execution_count": 81,
     "metadata": {},
     "output_type": "execute_result"
    }
   ],
   "source": [
    "df = pd.read_csv(data_path)\n",
    "df.head()"
   ]
  },
  {
   "cell_type": "code",
   "execution_count": 82,
   "id": "cfa149af",
   "metadata": {},
   "outputs": [],
   "source": [
    "# drop irrelevant columns\n",
    "df.drop(['Unnamed: 0'], axis=1, inplace=True)\n",
    "# Equal missing rows across features\n",
    "#laptop.dropna(inplace=True)\n",
    "# reset index after dropping rows\n",
    "df.reset_index(drop=True, inplace=True)"
   ]
  },
  {
   "cell_type": "code",
   "execution_count": 83,
   "id": "e2a41388",
   "metadata": {},
   "outputs": [],
   "source": [
    "laptop = df.copy()"
   ]
  },
  {
   "cell_type": "markdown",
   "id": "065bbf0d-8312-4b5d-9fdb-49a889cdc78e",
   "metadata": {},
   "source": [
    "### Data Analysis"
   ]
  },
  {
   "cell_type": "code",
   "execution_count": 84,
   "id": "4f830ba2",
   "metadata": {},
   "outputs": [
    {
     "name": "stdout",
     "output_type": "stream",
     "text": [
      "<class 'pandas.core.frame.DataFrame'>\n",
      "RangeIndex: 1303 entries, 0 to 1302\n",
      "Data columns (total 11 columns):\n",
      " #   Column            Non-Null Count  Dtype  \n",
      "---  ------            --------------  -----  \n",
      " 0   Company           1273 non-null   object \n",
      " 1   TypeName          1273 non-null   object \n",
      " 2   Inches            1273 non-null   float64\n",
      " 3   ScreenResolution  1273 non-null   object \n",
      " 4   Cpu               1273 non-null   object \n",
      " 5   Ram               1273 non-null   object \n",
      " 6   Memory            1273 non-null   object \n",
      " 7   Gpu               1273 non-null   object \n",
      " 8   OpSys             1273 non-null   object \n",
      " 9   Weight            1273 non-null   object \n",
      " 10  Price             1273 non-null   float64\n",
      "dtypes: float64(2), object(9)\n",
      "memory usage: 112.1+ KB\n"
     ]
    }
   ],
   "source": [
    "laptop.info()"
   ]
  },
  {
   "cell_type": "code",
   "execution_count": 85,
   "id": "0f15092b-2b6e-49d8-a676-1d634284b591",
   "metadata": {},
   "outputs": [
    {
     "data": {
      "text/plain": [
       "(1303, 11)"
      ]
     },
     "execution_count": 85,
     "metadata": {},
     "output_type": "execute_result"
    }
   ],
   "source": [
    "laptop.shape"
   ]
  },
  {
   "cell_type": "code",
   "execution_count": 86,
   "id": "12581636-46df-425b-a410-6add828733f2",
   "metadata": {},
   "outputs": [
    {
     "data": {
      "application/vnd.microsoft.datawrangler.viewer.v0+json": {
       "columns": [
        {
         "name": "index",
         "rawType": "object",
         "type": "string"
        },
        {
         "name": "Inches",
         "rawType": "float64",
         "type": "float"
        },
        {
         "name": "Price",
         "rawType": "float64",
         "type": "float"
        }
       ],
       "ref": "d23b6d5e-cdd1-4234-b19f-11819b75ea05",
       "rows": [
        [
         "count",
         "1273.0",
         "1273.0"
        ],
        [
         "mean",
         "15.129143754909663",
         "59955.81407321288"
        ],
        [
         "std",
         "1.954580325938202",
         "37332.251004569865"
        ],
        [
         "min",
         "10.1",
         "9270.72"
        ],
        [
         "25%",
         "14.0",
         "31914.72"
        ],
        [
         "50%",
         "15.6",
         "52161.12"
        ],
        [
         "75%",
         "15.6",
         "79333.3872"
        ],
        [
         "max",
         "35.6",
         "324954.72"
        ]
       ],
       "shape": {
        "columns": 2,
        "rows": 8
       }
      },
      "text/html": [
       "<div>\n",
       "<style scoped>\n",
       "    .dataframe tbody tr th:only-of-type {\n",
       "        vertical-align: middle;\n",
       "    }\n",
       "\n",
       "    .dataframe tbody tr th {\n",
       "        vertical-align: top;\n",
       "    }\n",
       "\n",
       "    .dataframe thead th {\n",
       "        text-align: right;\n",
       "    }\n",
       "</style>\n",
       "<table border=\"1\" class=\"dataframe\">\n",
       "  <thead>\n",
       "    <tr style=\"text-align: right;\">\n",
       "      <th></th>\n",
       "      <th>Inches</th>\n",
       "      <th>Price</th>\n",
       "    </tr>\n",
       "  </thead>\n",
       "  <tbody>\n",
       "    <tr>\n",
       "      <th>count</th>\n",
       "      <td>1273.000000</td>\n",
       "      <td>1273.000000</td>\n",
       "    </tr>\n",
       "    <tr>\n",
       "      <th>mean</th>\n",
       "      <td>15.129144</td>\n",
       "      <td>59955.814073</td>\n",
       "    </tr>\n",
       "    <tr>\n",
       "      <th>std</th>\n",
       "      <td>1.954580</td>\n",
       "      <td>37332.251005</td>\n",
       "    </tr>\n",
       "    <tr>\n",
       "      <th>min</th>\n",
       "      <td>10.100000</td>\n",
       "      <td>9270.720000</td>\n",
       "    </tr>\n",
       "    <tr>\n",
       "      <th>25%</th>\n",
       "      <td>14.000000</td>\n",
       "      <td>31914.720000</td>\n",
       "    </tr>\n",
       "    <tr>\n",
       "      <th>50%</th>\n",
       "      <td>15.600000</td>\n",
       "      <td>52161.120000</td>\n",
       "    </tr>\n",
       "    <tr>\n",
       "      <th>75%</th>\n",
       "      <td>15.600000</td>\n",
       "      <td>79333.387200</td>\n",
       "    </tr>\n",
       "    <tr>\n",
       "      <th>max</th>\n",
       "      <td>35.600000</td>\n",
       "      <td>324954.720000</td>\n",
       "    </tr>\n",
       "  </tbody>\n",
       "</table>\n",
       "</div>"
      ],
      "text/plain": [
       "            Inches          Price\n",
       "count  1273.000000    1273.000000\n",
       "mean     15.129144   59955.814073\n",
       "std       1.954580   37332.251005\n",
       "min      10.100000    9270.720000\n",
       "25%      14.000000   31914.720000\n",
       "50%      15.600000   52161.120000\n",
       "75%      15.600000   79333.387200\n",
       "max      35.600000  324954.720000"
      ]
     },
     "execution_count": 86,
     "metadata": {},
     "output_type": "execute_result"
    }
   ],
   "source": [
    "laptop.describe()"
   ]
  },
  {
   "cell_type": "code",
   "execution_count": 87,
   "id": "c173ffef-0943-43e4-9f28-69fe88623c11",
   "metadata": {},
   "outputs": [
    {
     "data": {
      "text/plain": [
       "array(['Apple', 'HP', 'Acer', 'Asus', 'Dell', 'Lenovo', nan, 'Chuwi',\n",
       "       'MSI', 'Microsoft', 'Toshiba', 'Huawei', 'Xiaomi', 'Vero', 'Razer',\n",
       "       'Mediacom', 'Samsung', 'Google', 'Fujitsu', 'LG'], dtype=object)"
      ]
     },
     "execution_count": 87,
     "metadata": {},
     "output_type": "execute_result"
    }
   ],
   "source": [
    "laptop['Company'].unique()"
   ]
  },
  {
   "cell_type": "code",
   "execution_count": 88,
   "id": "69ac7696",
   "metadata": {},
   "outputs": [
    {
     "name": "stderr",
     "output_type": "stream",
     "text": [
      "c:\\Users\\ahmad\\anaconda3\\Lib\\site-packages\\seaborn\\_oldcore.py:1498: FutureWarning: is_categorical_dtype is deprecated and will be removed in a future version. Use isinstance(dtype, CategoricalDtype) instead\n",
      "  if pd.api.types.is_categorical_dtype(vector):\n",
      "c:\\Users\\ahmad\\anaconda3\\Lib\\site-packages\\seaborn\\_oldcore.py:1498: FutureWarning: is_categorical_dtype is deprecated and will be removed in a future version. Use isinstance(dtype, CategoricalDtype) instead\n",
      "  if pd.api.types.is_categorical_dtype(vector):\n",
      "c:\\Users\\ahmad\\anaconda3\\Lib\\site-packages\\seaborn\\_oldcore.py:1498: FutureWarning: is_categorical_dtype is deprecated and will be removed in a future version. Use isinstance(dtype, CategoricalDtype) instead\n",
      "  if pd.api.types.is_categorical_dtype(vector):\n"
     ]
    },
    {
     "data": {
      "image/png": "[encoded data removed]",
      "text/plain": [
       "<Figure size 2000x600 with 1 Axes>"
      ]
     },
     "metadata": {},
     "output_type": "display_data"
    }
   ],
   "source": [
    "# plotting the company attributes\n",
    "fig_dims = (20, 6)\n",
    "fig, ax = plt.subplots(figsize=fig_dims)\n",
    "sns.countplot(x=\"Company\", data=laptop, ax=ax)\n",
    "plt.show()"
   ]
  },
  {
   "cell_type": "code",
   "execution_count": 89,
   "id": "8021d337",
   "metadata": {},
   "outputs": [
    {
     "name": "stderr",
     "output_type": "stream",
     "text": [
      "c:\\Users\\ahmad\\anaconda3\\Lib\\site-packages\\seaborn\\_oldcore.py:1498: FutureWarning: is_categorical_dtype is deprecated and will be removed in a future version. Use isinstance(dtype, CategoricalDtype) instead\n",
      "  if pd.api.types.is_categorical_dtype(vector):\n",
      "c:\\Users\\ahmad\\anaconda3\\Lib\\site-packages\\seaborn\\_oldcore.py:1119: FutureWarning: use_inf_as_na option is deprecated and will be removed in a future version. Convert inf values to NaN before operating instead.\n",
      "  with pd.option_context('mode.use_inf_as_na', True):\n"
     ]
    },
    {
     "data": {
      "image/png": "[encoded data removed]",
      "text/plain": [
       "<Figure size 640x480 with 1 Axes>"
      ]
     },
     "metadata": {},
     "output_type": "display_data"
    }
   ],
   "source": [
    "# plotting the price (target attribute)\n",
    "sns.histplot(laptop['Price'], kde=True, color='skyblue', edgecolor=None)\n",
    "plt.show()"
   ]
  },
  {
   "cell_type": "markdown",
   "id": "549f0b12-5f1e-4496-a5b7-9063b038dff2",
   "metadata": {},
   "source": [
    "The distribution is skewed and it shows cheaper laptops then to be sold frequently"
   ]
  },
  {
   "cell_type": "markdown",
   "id": "0f0a31ef-d25d-476e-93c3-4fc66d08821e",
   "metadata": {},
   "source": [
    "##### How does brand name impacts the laptop price"
   ]
  },
  {
   "cell_type": "code",
   "execution_count": 90,
   "id": "4a58f8d6-cd7c-4aac-a7ba-ad3bc3ce627d",
   "metadata": {},
   "outputs": [
    {
     "name": "stderr",
     "output_type": "stream",
     "text": [
      "c:\\Users\\ahmad\\anaconda3\\Lib\\site-packages\\seaborn\\_oldcore.py:1498: FutureWarning: is_categorical_dtype is deprecated and will be removed in a future version. Use isinstance(dtype, CategoricalDtype) instead\n",
      "  if pd.api.types.is_categorical_dtype(vector):\n",
      "c:\\Users\\ahmad\\anaconda3\\Lib\\site-packages\\seaborn\\_oldcore.py:1498: FutureWarning: is_categorical_dtype is deprecated and will be removed in a future version. Use isinstance(dtype, CategoricalDtype) instead\n",
      "  if pd.api.types.is_categorical_dtype(vector):\n",
      "c:\\Users\\ahmad\\anaconda3\\Lib\\site-packages\\seaborn\\_oldcore.py:1498: FutureWarning: is_categorical_dtype is deprecated and will be removed in a future version. Use isinstance(dtype, CategoricalDtype) instead\n",
      "  if pd.api.types.is_categorical_dtype(vector):\n"
     ]
    },
    {
     "data": {
      "image/png": "[encoded data removed]",
      "text/plain": [
       "<Figure size 640x480 with 1 Axes>"
      ]
     },
     "metadata": {},
     "output_type": "display_data"
    }
   ],
   "source": [
    "# plotting company relatively to the prices\n",
    "\n",
    "sns.barplot(x=laptop['Company'], y=laptop['Price'])\n",
    "plt.xticks(rotation='vertical')\n",
    "plt.show()"
   ]
  },
  {
   "cell_type": "markdown",
   "id": "bb18bb62-ad5a-4b30-9524-9ec782deb23a",
   "metadata": {},
   "source": [
    "Razer, Microsoft, Apple, Samsumg, Google, LG are expensive while the rest are within budget range"
   ]
  },
  {
   "cell_type": "markdown",
   "id": "48957ab9-caab-45cf-83ee-b53f58e61126",
   "metadata": {},
   "source": [
    "##### What type of laptop people prefer"
   ]
  },
  {
   "cell_type": "code",
   "execution_count": 91,
   "id": "10fa34b5-61bc-473e-9b64-cf41089cef65",
   "metadata": {},
   "outputs": [
    {
     "data": {
      "text/plain": [
       "<Axes: xlabel='TypeName'>"
      ]
     },
     "execution_count": 91,
     "metadata": {},
     "output_type": "execute_result"
    },
    {
     "data": {
      "image/png": "[encoded data removed]",
      "text/plain": [
       "<Figure size 640x480 with 1 Axes>"
      ]
     },
     "metadata": {},
     "output_type": "display_data"
    }
   ],
   "source": [
    "laptop['TypeName'].value_counts().plot(kind='bar')"
   ]
  },
  {
   "cell_type": "code",
   "execution_count": 92,
   "id": "f9e87524-5db4-42f4-92df-862f8c7db345",
   "metadata": {},
   "outputs": [
    {
     "name": "stderr",
     "output_type": "stream",
     "text": [
      "c:\\Users\\ahmad\\anaconda3\\Lib\\site-packages\\seaborn\\_oldcore.py:1498: FutureWarning: is_categorical_dtype is deprecated and will be removed in a future version. Use isinstance(dtype, CategoricalDtype) instead\n",
      "  if pd.api.types.is_categorical_dtype(vector):\n",
      "c:\\Users\\ahmad\\anaconda3\\Lib\\site-packages\\seaborn\\_oldcore.py:1498: FutureWarning: is_categorical_dtype is deprecated and will be removed in a future version. Use isinstance(dtype, CategoricalDtype) instead\n",
      "  if pd.api.types.is_categorical_dtype(vector):\n",
      "c:\\Users\\ahmad\\anaconda3\\Lib\\site-packages\\seaborn\\_oldcore.py:1498: FutureWarning: is_categorical_dtype is deprecated and will be removed in a future version. Use isinstance(dtype, CategoricalDtype) instead\n",
      "  if pd.api.types.is_categorical_dtype(vector):\n"
     ]
    },
    {
     "data": {
      "image/png": "[encoded data removed]",
      "text/plain": [
       "<Figure size 640x480 with 1 Axes>"
      ]
     },
     "metadata": {},
     "output_type": "display_data"
    }
   ],
   "source": [
    "sns.barplot(x=laptop['TypeName'], y=laptop['Price'])\n",
    "plt.xticks(rotation='vertical')\n",
    "plt.show()"
   ]
  },
  {
   "cell_type": "markdown",
   "id": "af15bf4c-6c9d-4c8f-90a3-641908944f4f",
   "metadata": {},
   "source": [
    "Notebook laptop is sold frequently and is because it is under budget range"
   ]
  },
  {
   "cell_type": "markdown",
   "id": "eaac2aad-df04-4798-9be1-a0bca65fa6b7",
   "metadata": {},
   "source": [
    "##### Does price vary with laptop size (inches)?"
   ]
  },
  {
   "cell_type": "code",
   "execution_count": 93,
   "id": "1a060e7b",
   "metadata": {},
   "outputs": [],
   "source": [
    "laptop['Inches'] = laptop['Inches'].astype(float)"
   ]
  },
  {
   "cell_type": "code",
   "execution_count": 94,
   "id": "28a2a52d-30f3-4390-88fa-44d0efcf5fa4",
   "metadata": {},
   "outputs": [
    {
     "name": "stderr",
     "output_type": "stream",
     "text": [
      "c:\\Users\\ahmad\\anaconda3\\Lib\\site-packages\\seaborn\\_oldcore.py:1498: FutureWarning: is_categorical_dtype is deprecated and will be removed in a future version. Use isinstance(dtype, CategoricalDtype) instead\n",
      "  if pd.api.types.is_categorical_dtype(vector):\n",
      "c:\\Users\\ahmad\\anaconda3\\Lib\\site-packages\\seaborn\\_oldcore.py:1498: FutureWarning: is_categorical_dtype is deprecated and will be removed in a future version. Use isinstance(dtype, CategoricalDtype) instead\n",
      "  if pd.api.types.is_categorical_dtype(vector):\n"
     ]
    },
    {
     "data": {
      "image/png": "[encoded data removed]",
      "text/plain": [
       "<Figure size 640x480 with 1 Axes>"
      ]
     },
     "metadata": {},
     "output_type": "display_data"
    }
   ],
   "source": [
    "sns.scatterplot(x=laptop['Inches'], y=laptop['Price'])\n",
    "plt.xticks(rotation='vertical')\n",
    "plt.show()"
   ]
  },
  {
   "cell_type": "markdown",
   "id": "c6f6f896-c793-43b2-8741-c7e693c4b2a5",
   "metadata": {},
   "source": [
    "It shows there is a strong relationship between the price and size columns"
   ]
  },
  {
   "cell_type": "markdown",
   "id": "0b9d456f",
   "metadata": {},
   "source": []
  },
  {
   "cell_type": "code",
   "execution_count": null,
   "id": "702af7f2",
   "metadata": {},
   "outputs": [],
   "source": []
  },
  {
   "cell_type": "markdown",
   "id": "6f933810-8873-427d-b34f-9a3efae4d68f",
   "metadata": {},
   "source": [
    "### Preprocessing"
   ]
  },
  {
   "cell_type": "code",
   "execution_count": 95,
   "id": "d3993707-52e5-4d48-b30a-013625d909f0",
   "metadata": {},
   "outputs": [
    {
     "data": {
      "application/vnd.microsoft.datawrangler.viewer.v0+json": {
       "columns": [
        {
         "name": "index",
         "rawType": "object",
         "type": "string"
        },
        {
         "name": "0",
         "rawType": "int64",
         "type": "integer"
        }
       ],
       "ref": "b06e65e9-b6c8-47ac-83cd-54045805f18a",
       "rows": [
        [
         "Company",
         "30"
        ],
        [
         "TypeName",
         "30"
        ],
        [
         "Inches",
         "30"
        ],
        [
         "ScreenResolution",
         "30"
        ],
        [
         "Cpu",
         "30"
        ],
        [
         "Ram",
         "30"
        ],
        [
         "Memory",
         "30"
        ],
        [
         "Gpu",
         "30"
        ],
        [
         "OpSys",
         "30"
        ],
        [
         "Weight",
         "30"
        ],
        [
         "Price",
         "30"
        ]
       ],
       "shape": {
        "columns": 1,
        "rows": 11
       }
      },
      "text/plain": [
       "Company             30\n",
       "TypeName            30\n",
       "Inches              30\n",
       "ScreenResolution    30\n",
       "Cpu                 30\n",
       "Ram                 30\n",
       "Memory              30\n",
       "Gpu                 30\n",
       "OpSys               30\n",
       "Weight              30\n",
       "Price               30\n",
       "dtype: int64"
      ]
     },
     "execution_count": 95,
     "metadata": {},
     "output_type": "execute_result"
    }
   ],
   "source": [
    "laptop.isna().sum()"
   ]
  },
  {
   "cell_type": "code",
   "execution_count": 96,
   "id": "7a9acc9b-817a-42d3-99ca-f9ac183f49dd",
   "metadata": {},
   "outputs": [
    {
     "data": {
      "text/plain": [
       "<Axes: >"
      ]
     },
     "execution_count": 96,
     "metadata": {},
     "output_type": "execute_result"
    },
    {
     "data": {
      "image/png": "[encoded data removed]",
      "text/plain": [
       "<Figure size 640x480 with 2 Axes>"
      ]
     },
     "metadata": {},
     "output_type": "display_data"
    }
   ],
   "source": [
    "# plotting missing values\n",
    "sns.heatmap(laptop.isna())    # all columns have equal missing values"
   ]
  },
  {
   "cell_type": "code",
   "execution_count": 97,
   "id": "e4434a35-89fe-4512-b3eb-b3f46f104d6e",
   "metadata": {},
   "outputs": [
    {
     "data": {
      "application/vnd.microsoft.datawrangler.viewer.v0+json": {
       "columns": [
        {
         "name": "index",
         "rawType": "object",
         "type": "string"
        },
        {
         "name": "0",
         "rawType": "float64",
         "type": "float"
        }
       ],
       "ref": "9b80630f-ff58-415c-b8f9-2665c3af47a7",
       "rows": [
        [
         "Company",
         "2.3023791250959325"
        ],
        [
         "TypeName",
         "2.3023791250959325"
        ],
        [
         "Inches",
         "2.3023791250959325"
        ],
        [
         "ScreenResolution",
         "2.3023791250959325"
        ],
        [
         "Cpu",
         "2.3023791250959325"
        ],
        [
         "Ram",
         "2.3023791250959325"
        ],
        [
         "Memory",
         "2.3023791250959325"
        ],
        [
         "Gpu",
         "2.3023791250959325"
        ],
        [
         "OpSys",
         "2.3023791250959325"
        ],
        [
         "Weight",
         "2.3023791250959325"
        ],
        [
         "Price",
         "2.3023791250959325"
        ]
       ],
       "shape": {
        "columns": 1,
        "rows": 11
       }
      },
      "text/plain": [
       "Company             2.302379\n",
       "TypeName            2.302379\n",
       "Inches              2.302379\n",
       "ScreenResolution    2.302379\n",
       "Cpu                 2.302379\n",
       "Ram                 2.302379\n",
       "Memory              2.302379\n",
       "Gpu                 2.302379\n",
       "OpSys               2.302379\n",
       "Weight              2.302379\n",
       "Price               2.302379\n",
       "dtype: float64"
      ]
     },
     "execution_count": 97,
     "metadata": {},
     "output_type": "execute_result"
    }
   ],
   "source": [
    "laptop.isna().sum() / len(laptop) * 100  #only 2% of data is missing"
   ]
  },
  {
   "cell_type": "code",
   "execution_count": 98,
   "id": "c7a47633-8293-499a-b45f-96f7326849f7",
   "metadata": {},
   "outputs": [],
   "source": [
    "# Drop missing values\n",
    "laptop.dropna(inplace=True)"
   ]
  },
  {
   "cell_type": "code",
   "execution_count": 99,
   "id": "13935a8f-c58f-4e02-9844-e7fe0067806e",
   "metadata": {},
   "outputs": [
    {
     "data": {
      "text/plain": [
       "0"
      ]
     },
     "execution_count": 99,
     "metadata": {},
     "output_type": "execute_result"
    }
   ],
   "source": [
    "laptop.isna().sum().sum()"
   ]
  },
  {
   "cell_type": "markdown",
   "id": "c2d5e753",
   "metadata": {},
   "source": [
    "### Ram Column"
   ]
  },
  {
   "cell_type": "code",
   "execution_count": 100,
   "id": "07418f1a-ac91-4cf1-9123-2014a91ffb40",
   "metadata": {},
   "outputs": [],
   "source": [
    "# cleaning Ram column\n",
    "laptop['Ram'] = laptop['Ram'].str.replace('GB', '').astype(int)"
   ]
  },
  {
   "cell_type": "code",
   "execution_count": 101,
   "id": "824a5f0f",
   "metadata": {},
   "outputs": [
    {
     "name": "stderr",
     "output_type": "stream",
     "text": [
      "c:\\Users\\ahmad\\anaconda3\\Lib\\site-packages\\seaborn\\_oldcore.py:1498: FutureWarning: is_categorical_dtype is deprecated and will be removed in a future version. Use isinstance(dtype, CategoricalDtype) instead\n",
      "  if pd.api.types.is_categorical_dtype(vector):\n",
      "c:\\Users\\ahmad\\anaconda3\\Lib\\site-packages\\seaborn\\_oldcore.py:1119: FutureWarning: use_inf_as_na option is deprecated and will be removed in a future version. Convert inf values to NaN before operating instead.\n",
      "  with pd.option_context('mode.use_inf_as_na', True):\n"
     ]
    },
    {
     "data": {
      "image/png": "[encoded data removed]",
      "text/plain": [
       "<Figure size 640x480 with 1 Axes>"
      ]
     },
     "metadata": {},
     "output_type": "display_data"
    }
   ],
   "source": [
    "# RAM Distribution\n",
    "sns.histplot(laptop['Ram'], kde=True, color='skyblue', edgecolor=None)\n",
    "plt.show()"
   ]
  },
  {
   "cell_type": "code",
   "execution_count": 102,
   "id": "e47d2045",
   "metadata": {},
   "outputs": [
    {
     "name": "stderr",
     "output_type": "stream",
     "text": [
      "c:\\Users\\ahmad\\anaconda3\\Lib\\site-packages\\seaborn\\_oldcore.py:1498: FutureWarning: is_categorical_dtype is deprecated and will be removed in a future version. Use isinstance(dtype, CategoricalDtype) instead\n",
      "  if pd.api.types.is_categorical_dtype(vector):\n",
      "c:\\Users\\ahmad\\anaconda3\\Lib\\site-packages\\seaborn\\_oldcore.py:1498: FutureWarning: is_categorical_dtype is deprecated and will be removed in a future version. Use isinstance(dtype, CategoricalDtype) instead\n",
      "  if pd.api.types.is_categorical_dtype(vector):\n",
      "c:\\Users\\ahmad\\anaconda3\\Lib\\site-packages\\seaborn\\_oldcore.py:1498: FutureWarning: is_categorical_dtype is deprecated and will be removed in a future version. Use isinstance(dtype, CategoricalDtype) instead\n",
      "  if pd.api.types.is_categorical_dtype(vector):\n"
     ]
    },
    {
     "data": {
      "text/plain": [
       "<Axes: xlabel='Ram', ylabel='Price'>"
      ]
     },
     "execution_count": 102,
     "metadata": {},
     "output_type": "execute_result"
    },
    {
     "data": {
      "image/png": "[encoded data removed]",
      "text/plain": [
       "<Figure size 640x480 with 1 Axes>"
      ]
     },
     "metadata": {},
     "output_type": "display_data"
    }
   ],
   "source": [
    "sns.barplot(x=laptop['Ram'], y=laptop['Price'])"
   ]
  },
  {
   "cell_type": "markdown",
   "id": "843f8d42",
   "metadata": {},
   "source": [
    "### Weight Column"
   ]
  },
  {
   "cell_type": "code",
   "execution_count": 103,
   "id": "38004cfd",
   "metadata": {},
   "outputs": [],
   "source": [
    "# Remove kg\n",
    "laptop['Weight'] = laptop['Weight'].str.replace('kg', '').astype(float)"
   ]
  },
  {
   "cell_type": "code",
   "execution_count": 104,
   "id": "991d0463",
   "metadata": {},
   "outputs": [
    {
     "name": "stderr",
     "output_type": "stream",
     "text": [
      "c:\\Users\\ahmad\\anaconda3\\Lib\\site-packages\\seaborn\\_oldcore.py:1498: FutureWarning: is_categorical_dtype is deprecated and will be removed in a future version. Use isinstance(dtype, CategoricalDtype) instead\n",
      "  if pd.api.types.is_categorical_dtype(vector):\n",
      "c:\\Users\\ahmad\\anaconda3\\Lib\\site-packages\\seaborn\\_oldcore.py:1119: FutureWarning: use_inf_as_na option is deprecated and will be removed in a future version. Convert inf values to NaN before operating instead.\n",
      "  with pd.option_context('mode.use_inf_as_na', True):\n"
     ]
    },
    {
     "data": {
      "image/png": "[encoded data removed]",
      "text/plain": [
       "<Figure size 640x480 with 1 Axes>"
      ]
     },
     "metadata": {},
     "output_type": "display_data"
    }
   ],
   "source": [
    "# Weight Distribution\n",
    "sns.histplot(laptop['Weight'], kde=True, color='skyblue', edgecolor=None)\n",
    "plt.show()"
   ]
  },
  {
   "cell_type": "markdown",
   "id": "187e09c1-ab6c-4d3b-a164-fdfdbf708c4a",
   "metadata": {},
   "source": [
    "### Feature Engineering"
   ]
  },
  {
   "cell_type": "code",
   "execution_count": 105,
   "id": "77b020c3-c56c-44c2-8a9e-96b38855ac5a",
   "metadata": {},
   "outputs": [
    {
     "data": {
      "text/plain": [
       "array(['IPS Panel Retina Display 2560x1600', '1440x900',\n",
       "       'Full HD 1920x1080', 'IPS Panel Retina Display 2880x1800',\n",
       "       '1366x768', 'IPS Panel Full HD 1920x1080',\n",
       "       'IPS Panel Retina Display 2304x1440',\n",
       "       'IPS Panel Full HD / Touchscreen 1920x1080',\n",
       "       'Full HD / Touchscreen 1920x1080',\n",
       "       'Touchscreen / Quad HD+ 3200x1800', 'Touchscreen 2256x1504',\n",
       "       'Quad HD+ / Touchscreen 3200x1800', 'IPS Panel 1366x768',\n",
       "       'IPS Panel 4K Ultra HD / Touchscreen 3840x2160',\n",
       "       'IPS Panel Full HD 2160x1440',\n",
       "       '4K Ultra HD / Touchscreen 3840x2160', '1600x900',\n",
       "       'IPS Panel 4K Ultra HD 3840x2160', '4K Ultra HD 3840x2160',\n",
       "       'Touchscreen 1366x768', 'Touchscreen 2560x1440',\n",
       "       'IPS Panel Full HD 1366x768', 'IPS Panel 2560x1440',\n",
       "       'IPS Panel Full HD 2560x1440',\n",
       "       'IPS Panel Retina Display 2736x1824', 'Touchscreen 2400x1600',\n",
       "       '2560x1440', 'IPS Panel Quad HD+ 2560x1440',\n",
       "       'IPS Panel Quad HD+ 3200x1800',\n",
       "       'IPS Panel Quad HD+ / Touchscreen 3200x1800',\n",
       "       'IPS Panel Touchscreen 1366x768', '1920x1080',\n",
       "       'IPS Panel Full HD 1920x1200',\n",
       "       'IPS Panel Touchscreen / 4K Ultra HD 3840x2160',\n",
       "       'IPS Panel Touchscreen 2560x1440',\n",
       "       'Touchscreen / Full HD 1920x1080', 'Quad HD+ 3200x1800',\n",
       "       'IPS Panel Touchscreen 1920x1200',\n",
       "       'Touchscreen / 4K Ultra HD 3840x2160',\n",
       "       'IPS Panel Touchscreen 2400x1600'], dtype=object)"
      ]
     },
     "execution_count": 105,
     "metadata": {},
     "output_type": "execute_result"
    }
   ],
   "source": [
    "laptop['ScreenResolution'].unique() # 40 Screen types (touch screen and non touch screen)"
   ]
  },
  {
   "cell_type": "markdown",
   "id": "7d41bb3a",
   "metadata": {},
   "source": [
    "##### Extrac Touchscreen"
   ]
  },
  {
   "cell_type": "code",
   "execution_count": 106,
   "id": "1f5807bb-4d57-47b6-9dee-128fe8060ff4",
   "metadata": {},
   "outputs": [
    {
     "data": {
      "text/plain": [
       "array([0, 1])"
      ]
     },
     "execution_count": 106,
     "metadata": {},
     "output_type": "execute_result"
    }
   ],
   "source": [
    "# Adding a column of Touchscreen(1) and nonTouchscreen(2)\n",
    "laptop['Touchscreen'] = laptop['ScreenResolution'].str.contains('Touchscreen', case=False).astype(int)\n",
    "laptop['Touchscreen'].unique()"
   ]
  },
  {
   "cell_type": "code",
   "execution_count": 107,
   "id": "d0e6ab8c-9e27-42be-93dc-c06a2b6085f5",
   "metadata": {},
   "outputs": [
    {
     "name": "stderr",
     "output_type": "stream",
     "text": [
      "c:\\Users\\ahmad\\anaconda3\\Lib\\site-packages\\seaborn\\_oldcore.py:1498: FutureWarning: is_categorical_dtype is deprecated and will be removed in a future version. Use isinstance(dtype, CategoricalDtype) instead\n",
      "  if pd.api.types.is_categorical_dtype(vector):\n",
      "c:\\Users\\ahmad\\anaconda3\\Lib\\site-packages\\seaborn\\_oldcore.py:1498: FutureWarning: is_categorical_dtype is deprecated and will be removed in a future version. Use isinstance(dtype, CategoricalDtype) instead\n",
      "  if pd.api.types.is_categorical_dtype(vector):\n",
      "c:\\Users\\ahmad\\anaconda3\\Lib\\site-packages\\seaborn\\_oldcore.py:1498: FutureWarning: is_categorical_dtype is deprecated and will be removed in a future version. Use isinstance(dtype, CategoricalDtype) instead\n",
      "  if pd.api.types.is_categorical_dtype(vector):\n"
     ]
    },
    {
     "data": {
      "text/plain": [
       "<Axes: xlabel='Touchscreen', ylabel='Price'>"
      ]
     },
     "execution_count": 107,
     "metadata": {},
     "output_type": "execute_result"
    },
    {
     "data": {
      "image/png": "[encoded data removed]",
      "text/plain": [
       "<Figure size 640x480 with 1 Axes>"
      ]
     },
     "metadata": {},
     "output_type": "display_data"
    }
   ],
   "source": [
    "# how many laptops are touchscreen and which is more expensive\n",
    "sns.barplot(x=laptop['Touchscreen'], y=laptop['Price'])"
   ]
  },
  {
   "cell_type": "markdown",
   "id": "b85bb0b1",
   "metadata": {},
   "source": [
    "##### Excract IPS Screen"
   ]
  },
  {
   "cell_type": "code",
   "execution_count": 108,
   "id": "5ea580a1-c9c7-451b-8ac9-d79fb01ddd26",
   "metadata": {},
   "outputs": [
    {
     "data": {
      "text/plain": [
       "array([1, 0])"
      ]
     },
     "execution_count": 108,
     "metadata": {},
     "output_type": "execute_result"
    }
   ],
   "source": [
    "# Screen with In-plane switching(1) and non IPS(0)\n",
    "laptop['IPS'] = laptop['ScreenResolution'].str.contains('IPS', case=False).astype(int)\n",
    "laptop['IPS'].unique()"
   ]
  },
  {
   "cell_type": "code",
   "execution_count": 109,
   "id": "876e23e4",
   "metadata": {},
   "outputs": [
    {
     "name": "stderr",
     "output_type": "stream",
     "text": [
      "c:\\Users\\ahmad\\anaconda3\\Lib\\site-packages\\seaborn\\_oldcore.py:1498: FutureWarning: is_categorical_dtype is deprecated and will be removed in a future version. Use isinstance(dtype, CategoricalDtype) instead\n",
      "  if pd.api.types.is_categorical_dtype(vector):\n",
      "c:\\Users\\ahmad\\anaconda3\\Lib\\site-packages\\seaborn\\_oldcore.py:1498: FutureWarning: is_categorical_dtype is deprecated and will be removed in a future version. Use isinstance(dtype, CategoricalDtype) instead\n",
      "  if pd.api.types.is_categorical_dtype(vector):\n",
      "c:\\Users\\ahmad\\anaconda3\\Lib\\site-packages\\seaborn\\_oldcore.py:1498: FutureWarning: is_categorical_dtype is deprecated and will be removed in a future version. Use isinstance(dtype, CategoricalDtype) instead\n",
      "  if pd.api.types.is_categorical_dtype(vector):\n"
     ]
    },
    {
     "data": {
      "text/plain": [
       "<Axes: xlabel='IPS', ylabel='Price'>"
      ]
     },
     "execution_count": 109,
     "metadata": {},
     "output_type": "execute_result"
    },
    {
     "data": {
      "image/png": "[encoded data removed]",
      "text/plain": [
       "<Figure size 640x480 with 1 Axes>"
      ]
     },
     "metadata": {},
     "output_type": "display_data"
    }
   ],
   "source": [
    "# ploting IPS features against Price\n",
    "sns.barplot(x=laptop['IPS'], y=laptop['Price'])"
   ]
  },
  {
   "cell_type": "markdown",
   "id": "8bb6fb05",
   "metadata": {},
   "source": [
    "##### Extract Resolution"
   ]
  },
  {
   "cell_type": "code",
   "execution_count": 110,
   "id": "93c514f1",
   "metadata": {},
   "outputs": [
    {
     "data": {
      "application/vnd.microsoft.datawrangler.viewer.v0+json": {
       "columns": [
        {
         "name": "index",
         "rawType": "int64",
         "type": "integer"
        },
        {
         "name": "Resolution",
         "rawType": "object",
         "type": "string"
        }
       ],
       "ref": "4f5b884b-8663-41f3-83a1-dfa802320753",
       "rows": [
        [
         "0",
         "2560x1600"
        ],
        [
         "1",
         "1440x900"
        ],
        [
         "2",
         "1920x1080"
        ],
        [
         "3",
         "2880x1800"
        ],
        [
         "4",
         "2560x1600"
        ]
       ],
       "shape": {
        "columns": 1,
        "rows": 5
       }
      },
      "text/plain": [
       "0    2560x1600\n",
       "1     1440x900\n",
       "2    1920x1080\n",
       "3    2880x1800\n",
       "4    2560x1600\n",
       "Name: Resolution, dtype: object"
      ]
     },
     "execution_count": 110,
     "metadata": {},
     "output_type": "execute_result"
    }
   ],
   "source": [
    "laptop['Resolution'] = laptop['ScreenResolution'].str.extract(r'(\\d+x\\d+)')[0]\n",
    "laptop['Resolution'].head()"
   ]
  },
  {
   "cell_type": "code",
   "execution_count": 111,
   "id": "6e958307",
   "metadata": {},
   "outputs": [],
   "source": [
    "# Extract screen resolution dimensions\n",
    "laptop[['X_res', 'Y_res']] = laptop['Resolution'].str.split('x', expand=True).astype(float)"
   ]
  },
  {
   "cell_type": "code",
   "execution_count": 112,
   "id": "b579c7a5",
   "metadata": {},
   "outputs": [
    {
     "data": {
      "application/vnd.microsoft.datawrangler.viewer.v0+json": {
       "columns": [
        {
         "name": "index",
         "rawType": "object",
         "type": "string"
        },
        {
         "name": "Price",
         "rawType": "float64",
         "type": "float"
        }
       ],
       "ref": "c24a5212-ef15-46ee-a0ae-fa6cb48c830d",
       "rows": [
        [
         "Price",
         "1.0"
        ],
        [
         "Ram",
         "0.6856477245388363"
        ],
        [
         "X_res",
         "0.5575559176961646"
        ],
        [
         "Y_res",
         "0.5540692476635687"
        ],
        [
         "IPS",
         "0.2548510062892386"
        ],
        [
         "Touchscreen",
         "0.1889940778762112"
        ],
        [
         "Weight",
         "0.1759662273027763"
        ],
        [
         "Inches",
         "0.04303178431965155"
        ]
       ],
       "shape": {
        "columns": 1,
        "rows": 8
       }
      },
      "text/plain": [
       "Price          1.000000\n",
       "Ram            0.685648\n",
       "X_res          0.557556\n",
       "Y_res          0.554069\n",
       "IPS            0.254851\n",
       "Touchscreen    0.188994\n",
       "Weight         0.175966\n",
       "Inches         0.043032\n",
       "Name: Price, dtype: float64"
      ]
     },
     "execution_count": 112,
     "metadata": {},
     "output_type": "execute_result"
    }
   ],
   "source": [
    "laptop.select_dtypes(exclude='O').corr()['Price'].sort_values(ascending=False)"
   ]
  },
  {
   "cell_type": "markdown",
   "id": "cd9583bd",
   "metadata": {},
   "source": [
    "It shows that Inches doesn't have a strong correlation but X and Y axis resolution have a strong correlation, we can take advantage of it and convert these three columns into a single column that is Pixel Per Inches (PPI). The goal is to have fewer features to improve performance."
   ]
  },
  {
   "cell_type": "markdown",
   "id": "0667ad13",
   "metadata": {},
   "source": [
    "##### Creating PPI (Measurement of of the Resolution)"
   ]
  },
  {
   "cell_type": "markdown",
   "id": "b4936da1",
   "metadata": {},
   "source": [
    "Replacing X and Y resolution to PPI (Pixel per inches)\n",
    "PPI = sqrt(X^2 + Y^2) / Inches"
   ]
  },
  {
   "cell_type": "code",
   "execution_count": 113,
   "id": "113df138",
   "metadata": {},
   "outputs": [],
   "source": [
    "laptop['PPI'] = ((laptop['X_res']**2 + laptop['Y_res']**2)**0.5) / laptop['Inches']"
   ]
  },
  {
   "cell_type": "code",
   "execution_count": 114,
   "id": "6b93db2d",
   "metadata": {},
   "outputs": [
    {
     "data": {
      "application/vnd.microsoft.datawrangler.viewer.v0+json": {
       "columns": [
        {
         "name": "index",
         "rawType": "object",
         "type": "string"
        },
        {
         "name": "Price",
         "rawType": "float64",
         "type": "float"
        }
       ],
       "ref": "031c4b35-3c56-4586-83cb-d558126d5bfa",
       "rows": [
        [
         "Price",
         "1.0"
        ],
        [
         "Ram",
         "0.6856477245388363"
        ],
        [
         "X_res",
         "0.5575559176961646"
        ],
        [
         "Y_res",
         "0.5540692476635687"
        ],
        [
         "PPI",
         "0.4695203832230468"
        ],
        [
         "IPS",
         "0.2548510062892386"
        ],
        [
         "Touchscreen",
         "0.1889940778762112"
        ],
        [
         "Weight",
         "0.1759662273027763"
        ],
        [
         "Inches",
         "0.04303178431965155"
        ]
       ],
       "shape": {
        "columns": 1,
        "rows": 9
       }
      },
      "text/plain": [
       "Price          1.000000\n",
       "Ram            0.685648\n",
       "X_res          0.557556\n",
       "Y_res          0.554069\n",
       "PPI            0.469520\n",
       "IPS            0.254851\n",
       "Touchscreen    0.188994\n",
       "Weight         0.175966\n",
       "Inches         0.043032\n",
       "Name: Price, dtype: float64"
      ]
     },
     "execution_count": 114,
     "metadata": {},
     "output_type": "execute_result"
    }
   ],
   "source": [
    "laptop.select_dtypes(exclude='O').corr()['Price'].sort_values(ascending=False)"
   ]
  },
  {
   "cell_type": "markdown",
   "id": "ad10d7e2",
   "metadata": {},
   "source": [
    "Now the correlation to price shows that PPI have a strong correlation"
   ]
  },
  {
   "cell_type": "markdown",
   "id": "3430994c",
   "metadata": {},
   "source": [
    "Since we are done extracting ScreenResolution, Inches , X_res, and Y_res combined to form PPI, Drop the Features"
   ]
  },
  {
   "cell_type": "code",
   "execution_count": 115,
   "id": "92666901",
   "metadata": {},
   "outputs": [
    {
     "name": "stderr",
     "output_type": "stream",
     "text": [
      "c:\\Users\\ahmad\\anaconda3\\Lib\\site-packages\\seaborn\\_oldcore.py:1498: FutureWarning: is_categorical_dtype is deprecated and will be removed in a future version. Use isinstance(dtype, CategoricalDtype) instead\n",
      "  if pd.api.types.is_categorical_dtype(vector):\n",
      "c:\\Users\\ahmad\\anaconda3\\Lib\\site-packages\\seaborn\\_oldcore.py:1119: FutureWarning: use_inf_as_na option is deprecated and will be removed in a future version. Convert inf values to NaN before operating instead.\n",
      "  with pd.option_context('mode.use_inf_as_na', True):\n"
     ]
    },
    {
     "data": {
      "image/png": "[encoded data removed]",
      "text/plain": [
       "<Figure size 640x480 with 1 Axes>"
      ]
     },
     "metadata": {},
     "output_type": "display_data"
    }
   ],
   "source": [
    "# PPI Distribution\n",
    "sns.histplot(laptop['PPI'], kde=True, color='skyblue', edgecolor=None)\n",
    "plt.show()"
   ]
  },
  {
   "cell_type": "code",
   "execution_count": 116,
   "id": "e189d4e9",
   "metadata": {},
   "outputs": [],
   "source": [
    "# drop unnecessary features\n",
    "laptop.drop(columns=['ScreenResolution', 'Inches', 'X_res', 'Y_res'], inplace=True)"
   ]
  },
  {
   "cell_type": "markdown",
   "id": "361d542f-301f-4235-8b4c-0dc453b31150",
   "metadata": {},
   "source": [
    "### Cpu Column"
   ]
  },
  {
   "cell_type": "code",
   "execution_count": 117,
   "id": "2920f86f",
   "metadata": {},
   "outputs": [
    {
     "data": {
      "text/plain": [
       "array(['Intel Core i5 2.3GHz', 'Intel Core i5 1.8GHz',\n",
       "       'Intel Core i5 7200U 2.5GHz', 'Intel Core i7 2.7GHz',\n",
       "       'Intel Core i5 3.1GHz', 'AMD A9-Series 9420 3GHz',\n",
       "       'Intel Core i7 2.2GHz', 'Intel Core i7 8550U 1.8GHz',\n",
       "       'Intel Core i5 8250U 1.6GHz', 'Intel Core i3 6006U 2GHz',\n",
       "       'Intel Core i7 2.8GHz', 'Intel Core M m3 1.2GHz',\n",
       "       'Intel Core i7 7500U 2.7GHz', 'Intel Core i7 2.9GHz',\n",
       "       'Intel Core i3 7100U 2.4GHz', 'Intel Core i5 7300HQ 2.5GHz',\n",
       "       'AMD E-Series E2-9000e 1.5GHz', 'Intel Core i5 1.6GHz',\n",
       "       'Intel Core i7 8650U 1.9GHz', 'Intel Atom x5-Z8300 1.44GHz',\n",
       "       'AMD E-Series E2-6110 1.5GHz', 'AMD A6-Series 9220 2.5GHz',\n",
       "       'Intel Celeron Dual Core N3350 1.1GHz',\n",
       "       'Intel Core i3 7130U 2.7GHz', 'Intel Core i7 7700HQ 2.8GHz',\n",
       "       'Intel Core i5 2.0GHz', 'AMD Ryzen 1700 3GHz',\n",
       "       'Intel Pentium Quad Core N4200 1.1GHz',\n",
       "       'Intel Celeron Dual Core N3060 1.6GHz', 'Intel Core i5 1.3GHz',\n",
       "       'AMD FX 9830P 3GHz', 'Intel Core i7 7560U 2.4GHz',\n",
       "       'AMD E-Series 6110 1.5GHz', 'Intel Core i5 6200U 2.3GHz',\n",
       "       'Intel Core M 6Y75 1.2GHz', 'Intel Core i5 7500U 2.7GHz',\n",
       "       'Intel Core i3 6006U 2.2GHz', 'AMD A6-Series 9220 2.9GHz',\n",
       "       'Intel Core i7 6920HQ 2.9GHz', 'Intel Core i5 7Y54 1.2GHz',\n",
       "       'Intel Core i7 7820HK 2.9GHz', 'Intel Xeon E3-1505M V6 3GHz',\n",
       "       'Intel Core i7 6500U 2.5GHz', 'AMD E-Series 9000e 1.5GHz',\n",
       "       'AMD A10-Series A10-9620P 2.5GHz', 'AMD A6-Series A6-9220 2.5GHz',\n",
       "       'Intel Core i5 2.9GHz', 'Intel Core i7 6600U 2.6GHz',\n",
       "       'Intel Core i3 6006U 2.0GHz',\n",
       "       'Intel Celeron Dual Core 3205U 1.5GHz',\n",
       "       'Intel Core i7 7820HQ 2.9GHz', 'AMD A10-Series 9600P 2.4GHz',\n",
       "       'Intel Core i7 7600U 2.8GHz', 'AMD A8-Series 7410 2.2GHz',\n",
       "       'Intel Celeron Dual Core 3855U 1.6GHz',\n",
       "       'Intel Pentium Quad Core N3710 1.6GHz',\n",
       "       'AMD A12-Series 9720P 2.7GHz', 'Intel Core i5 7300U 2.6GHz',\n",
       "       'AMD A12-Series 9720P 3.6GHz',\n",
       "       'Intel Celeron Quad Core N3450 1.1GHz',\n",
       "       'Intel Celeron Dual Core N3060 1.60GHz',\n",
       "       'Intel Core i5 6440HQ 2.6GHz', 'Intel Core i7 6820HQ 2.7GHz',\n",
       "       'AMD Ryzen 1600 3.2GHz', 'Intel Core i7 7Y75 1.3GHz',\n",
       "       'Intel Core i5 7440HQ 2.8GHz', 'Intel Core i7 7660U 2.5GHz',\n",
       "       'Intel Core i7 7700HQ 2.7GHz', 'Intel Core M m3-7Y30 2.2GHz',\n",
       "       'Intel Core i5 7Y57 1.2GHz', 'Intel Core i7 6700HQ 2.6GHz',\n",
       "       'Intel Core i3 6100U 2.3GHz', 'Intel Atom x5-Z8350 1.44GHz',\n",
       "       'AMD A10-Series 9620P 2.5GHz', 'AMD E-Series 7110 1.8GHz',\n",
       "       'Intel Celeron Dual Core N3350 2.0GHz',\n",
       "       'AMD A9-Series A9-9420 3GHz', 'Intel Core i7 6820HK 2.7GHz',\n",
       "       'Intel Core M 7Y30 1.0GHz', 'Intel Xeon E3-1535M v6 3.1GHz',\n",
       "       'Intel Celeron Quad Core N3160 1.6GHz',\n",
       "       'Intel Core i5 6300U 2.4GHz', 'Intel Core i3 6100U 2.1GHz',\n",
       "       'AMD E-Series E2-9000 2.2GHz',\n",
       "       'Intel Celeron Dual Core N3050 1.6GHz',\n",
       "       'Intel Core M M3-6Y30 0.9GHz', 'AMD A9-Series 9420 2.9GHz',\n",
       "       'Intel Core i5 6300HQ 2.3GHz', 'AMD A6-Series 7310 2GHz',\n",
       "       'Intel Atom Z8350 1.92GHz', 'Intel Xeon E3-1535M v5 2.9GHz',\n",
       "       'Intel Core i5 6260U 1.8GHz',\n",
       "       'Intel Pentium Dual Core N4200 1.1GHz',\n",
       "       'Intel Celeron Quad Core N3710 1.6GHz', 'Intel Core M 1.2GHz',\n",
       "       'AMD A12-Series 9700P 2.5GHz', 'Intel Core i7 7500U 2.5GHz',\n",
       "       'Intel Pentium Dual Core 4405U 2.1GHz',\n",
       "       'AMD A4-Series 7210 2.2GHz', 'Intel Core i7 6560U 2.2GHz',\n",
       "       'Intel Core M m7-6Y75 1.2GHz', 'AMD FX 8800P 2.1GHz',\n",
       "       'Intel Core M M7-6Y75 1.2GHz', 'Intel Core i5 7200U 2.50GHz',\n",
       "       'Intel Core i5 7200U 2.70GHz', 'Intel Atom X5-Z8350 1.44GHz',\n",
       "       'Intel Core i5 7200U 2.7GHz', 'Intel Core M 1.1GHz',\n",
       "       'Intel Atom x5-Z8550 1.44GHz',\n",
       "       'Intel Pentium Dual Core 4405Y 1.5GHz',\n",
       "       'Intel Pentium Quad Core N3700 1.6GHz', 'Intel Core M 6Y54 1.1GHz',\n",
       "       'Intel Core i7 6500U 2.50GHz',\n",
       "       'Intel Celeron Dual Core N3350 2GHz',\n",
       "       'Samsung Cortex A72&A53 2.0GHz', 'AMD E-Series 9000 2.2GHz',\n",
       "       'Intel Core M 6Y30 0.9GHz', 'AMD A9-Series 9410 2.9GHz'],\n",
       "      dtype=object)"
      ]
     },
     "execution_count": 117,
     "metadata": {},
     "output_type": "execute_result"
    }
   ],
   "source": [
    "laptop['Cpu'].unique()"
   ]
  },
  {
   "cell_type": "code",
   "execution_count": 118,
   "id": "10d17abd",
   "metadata": {},
   "outputs": [
    {
     "data": {
      "text/plain": [
       "array(['Intel Core', 'AMD A9-Series', 'AMD E-Series', 'Intel Atom',\n",
       "       'AMD A6-Series', 'Intel Celeron', 'AMD Ryzen', 'Intel Pentium',\n",
       "       'AMD FX', 'Intel Xeon', 'AMD A10-Series', 'AMD A8-Series',\n",
       "       'AMD A12-Series', 'AMD A4-Series', 'Samsung Cortex'], dtype=object)"
      ]
     },
     "execution_count": 118,
     "metadata": {},
     "output_type": "execute_result"
    }
   ],
   "source": [
    "# Extract cpu brand\n",
    "cpu = laptop['Cpu'].apply(lambda x: ' '.join(x.split()[:2]))\n",
    "cpu.unique()"
   ]
  },
  {
   "cell_type": "code",
   "execution_count": 119,
   "id": "3d6f4a17",
   "metadata": {},
   "outputs": [],
   "source": [
    "def group_cpu(cpu):\n",
    "\tcpu = cpu.lower()\n",
    "\tif \"intel core\" in cpu:\n",
    "\t\treturn \"Intel Core\"\n",
    "\telif \"intel celeron\" in cpu or \"intel pentium\" in cpu or \"intel atom\" in cpu or \"intel xeon\" in cpu:\n",
    "\t\treturn \"Intel Other\"\n",
    "\telif \"amd ryzen\" in cpu:\n",
    "\t\treturn \"AMD Series\"\n",
    "\telif \"samsung\" in cpu:\n",
    "\t\treturn \"Others\"\n",
    "\telse:\n",
    "\t\treturn \"Others\""
   ]
  },
  {
   "cell_type": "code",
   "execution_count": 120,
   "id": "54a92ad9",
   "metadata": {},
   "outputs": [
    {
     "data": {
      "application/vnd.microsoft.datawrangler.viewer.v0+json": {
       "columns": [
        {
         "name": "cpu",
         "rawType": "object",
         "type": "string"
        },
        {
         "name": "count",
         "rawType": "int64",
         "type": "integer"
        }
       ],
       "ref": "cf093c87-4124-412f-a774-1fa8c1866792",
       "rows": [
        [
         "Intel Core",
         "1078"
        ],
        [
         "Intel Other",
         "132"
        ],
        [
         "Others",
         "59"
        ],
        [
         "AMD Series",
         "4"
        ]
       ],
       "shape": {
        "columns": 1,
        "rows": 4
       }
      },
      "text/plain": [
       "cpu\n",
       "Intel Core     1078\n",
       "Intel Other     132\n",
       "Others           59\n",
       "AMD Series        4\n",
       "Name: count, dtype: int64"
      ]
     },
     "execution_count": 120,
     "metadata": {},
     "output_type": "execute_result"
    }
   ],
   "source": [
    "laptop['cpu'] = cpu.apply(group_cpu)\n",
    "laptop['cpu'].value_counts()"
   ]
  },
  {
   "cell_type": "code",
   "execution_count": 121,
   "id": "543b1a94",
   "metadata": {},
   "outputs": [],
   "source": [
    "laptop.drop(columns='Cpu', inplace=True)"
   ]
  },
  {
   "cell_type": "code",
   "execution_count": 122,
   "id": "081d294c",
   "metadata": {},
   "outputs": [
    {
     "name": "stderr",
     "output_type": "stream",
     "text": [
      "c:\\Users\\ahmad\\anaconda3\\Lib\\site-packages\\seaborn\\_oldcore.py:1498: FutureWarning: is_categorical_dtype is deprecated and will be removed in a future version. Use isinstance(dtype, CategoricalDtype) instead\n",
      "  if pd.api.types.is_categorical_dtype(vector):\n",
      "c:\\Users\\ahmad\\anaconda3\\Lib\\site-packages\\seaborn\\_oldcore.py:1498: FutureWarning: is_categorical_dtype is deprecated and will be removed in a future version. Use isinstance(dtype, CategoricalDtype) instead\n",
      "  if pd.api.types.is_categorical_dtype(vector):\n",
      "c:\\Users\\ahmad\\anaconda3\\Lib\\site-packages\\seaborn\\_oldcore.py:1498: FutureWarning: is_categorical_dtype is deprecated and will be removed in a future version. Use isinstance(dtype, CategoricalDtype) instead\n",
      "  if pd.api.types.is_categorical_dtype(vector):\n"
     ]
    },
    {
     "data": {
      "image/png": "[encoded data removed]",
      "text/plain": [
       "<Figure size 640x480 with 1 Axes>"
      ]
     },
     "metadata": {},
     "output_type": "display_data"
    }
   ],
   "source": [
    "# How does price vary with processor?\n",
    "sns.barplot(x=laptop['cpu'], y=laptop['Price'])\n",
    "plt.xticks(rotation='vertical')\n",
    "plt.show()"
   ]
  },
  {
   "cell_type": "markdown",
   "id": "e63552b8",
   "metadata": {},
   "source": [
    "### Gpu Column"
   ]
  },
  {
   "cell_type": "code",
   "execution_count": 123,
   "id": "a94a4f8a",
   "metadata": {},
   "outputs": [
    {
     "data": {
      "text/plain": [
       "array(['Intel Iris Plus Graphics 640', 'Intel HD Graphics 6000',\n",
       "       'Intel HD Graphics 620', 'AMD Radeon Pro 455',\n",
       "       'Intel Iris Plus Graphics 650', 'AMD Radeon R5',\n",
       "       'Intel Iris Pro Graphics', 'Nvidia GeForce MX150',\n",
       "       'Intel UHD Graphics 620', 'Intel HD Graphics 520',\n",
       "       'AMD Radeon Pro 555', 'AMD Radeon R5 M430',\n",
       "       'Intel HD Graphics 615', 'AMD Radeon Pro 560',\n",
       "       'Nvidia GeForce 940MX', 'Nvidia GeForce GTX 1050', 'AMD Radeon R2',\n",
       "       'AMD Radeon 530', 'Nvidia GeForce 930MX', 'Intel HD Graphics',\n",
       "       'Intel HD Graphics 500', 'Nvidia GeForce 930MX ',\n",
       "       'Nvidia GeForce GTX 1060', 'Nvidia GeForce 150MX',\n",
       "       'Intel Iris Graphics 540', 'AMD Radeon RX 580',\n",
       "       'Nvidia GeForce 920MX', 'AMD Radeon R4 Graphics', 'AMD Radeon 520',\n",
       "       'Nvidia GeForce GTX 1070', 'Nvidia GeForce GTX 1050 Ti',\n",
       "       'Intel HD Graphics 400', 'Nvidia GeForce MX130', 'AMD R4 Graphics',\n",
       "       'Nvidia GeForce GTX 940MX', 'AMD Radeon RX 560',\n",
       "       'Nvidia GeForce 920M', 'AMD Radeon R7 M445', 'AMD Radeon RX 550',\n",
       "       'Nvidia GeForce GTX 1050M', 'Intel HD Graphics 515',\n",
       "       'AMD Radeon R5 M420', 'Intel HD Graphics 505',\n",
       "       'Nvidia GTX 980 SLI', 'AMD R17M-M1-70', 'Nvidia GeForce GTX 1080',\n",
       "       'Nvidia Quadro M1200', 'Nvidia GeForce 920MX ',\n",
       "       'Nvidia GeForce GTX 950M', 'AMD FirePro W4190M ',\n",
       "       'Nvidia GeForce GTX 980M', 'Intel Iris Graphics 550',\n",
       "       'Nvidia GeForce 930M', 'Intel HD Graphics 630',\n",
       "       'AMD Radeon R5 430', 'Nvidia GeForce GTX 940M',\n",
       "       'Intel HD Graphics 510', 'Intel HD Graphics 405',\n",
       "       'AMD Radeon RX 540', 'Nvidia GeForce GT 940MX',\n",
       "       'AMD FirePro W5130M', 'Nvidia Quadro M2200M', 'AMD Radeon R4',\n",
       "       'Nvidia Quadro M620', 'AMD Radeon R7 M460',\n",
       "       'Intel HD Graphics 530', 'Nvidia GeForce GTX 965M',\n",
       "       'Nvidia GeForce GTX1080', 'Nvidia GeForce GTX1050 Ti',\n",
       "       'Nvidia GeForce GTX 960M', 'AMD Radeon R2 Graphics',\n",
       "       'Nvidia Quadro M620M', 'Nvidia GeForce GTX 970M',\n",
       "       'Nvidia GeForce GTX 960<U+039C>', 'Intel Graphics 620',\n",
       "       'Nvidia GeForce GTX 960', 'AMD Radeon R5 520',\n",
       "       'AMD Radeon R7 M440', 'AMD Radeon R7', 'Nvidia Quadro M520M',\n",
       "       'Nvidia Quadro M2200', 'Nvidia Quadro M2000M',\n",
       "       'Intel HD Graphics 540', 'Nvidia Quadro M1000M', 'AMD Radeon 540',\n",
       "       'Nvidia GeForce GTX 1070M', 'Nvidia GeForce GTX1060',\n",
       "       'Intel HD Graphics 5300', 'AMD Radeon R5 M420X',\n",
       "       'AMD Radeon R7 Graphics', 'Nvidia GeForce 920',\n",
       "       'Nvidia GeForce 940M', 'Nvidia GeForce GTX 930MX',\n",
       "       'AMD Radeon R7 M465', 'AMD Radeon R3', 'Nvidia GeForce GTX 1050Ti',\n",
       "       'AMD Radeon R7 M365X', 'AMD Radeon R9 M385',\n",
       "       'Intel HD Graphics 620 ', 'Nvidia Quadro 3000M',\n",
       "       'Nvidia GeForce GTX 980 ', 'AMD Radeon R5 M330',\n",
       "       'AMD FirePro W4190M', 'AMD FirePro W6150M', 'AMD Radeon R5 M315',\n",
       "       'Nvidia Quadro M500M', 'AMD Radeon R7 M360',\n",
       "       'Nvidia Quadro M3000M', 'Nvidia GeForce 960M', 'ARM Mali T860 MP4'],\n",
       "      dtype=object)"
      ]
     },
     "execution_count": 123,
     "metadata": {},
     "output_type": "execute_result"
    }
   ],
   "source": [
    "laptop['Gpu'].unique()"
   ]
  },
  {
   "cell_type": "code",
   "execution_count": 124,
   "id": "b4e413e6",
   "metadata": {},
   "outputs": [],
   "source": [
    "gpu = laptop['Gpu'].apply(lambda x: x.split()[0])"
   ]
  },
  {
   "cell_type": "code",
   "execution_count": 125,
   "id": "f1b6ab62",
   "metadata": {},
   "outputs": [],
   "source": [
    "def group_gpu(gpu):\n",
    "\tgpu = gpu.lower()\n",
    "\tif \"intel\" in gpu:\n",
    "\t\treturn \"Intel\"\n",
    "\telif \"nvidia\" in gpu:\n",
    "\t\treturn \"Nvidia\"\n",
    "\telif \"amd\" in gpu:\n",
    "\t\treturn \"AMD\"\n",
    "\telse:\n",
    "\t\treturn \"Others\""
   ]
  },
  {
   "cell_type": "code",
   "execution_count": 126,
   "id": "1d86acce",
   "metadata": {},
   "outputs": [
    {
     "data": {
      "application/vnd.microsoft.datawrangler.viewer.v0+json": {
       "columns": [
        {
         "name": "gpu",
         "rawType": "object",
         "type": "string"
        },
        {
         "name": "count",
         "rawType": "int64",
         "type": "integer"
        }
       ],
       "ref": "cf29df75-0eaa-45ef-aeb6-4c3a1556b934",
       "rows": [
        [
         "Intel",
         "703"
        ],
        [
         "Nvidia",
         "393"
        ],
        [
         "AMD",
         "176"
        ],
        [
         "Others",
         "1"
        ]
       ],
       "shape": {
        "columns": 1,
        "rows": 4
       }
      },
      "text/plain": [
       "gpu\n",
       "Intel     703\n",
       "Nvidia    393\n",
       "AMD       176\n",
       "Others      1\n",
       "Name: count, dtype: int64"
      ]
     },
     "execution_count": 126,
     "metadata": {},
     "output_type": "execute_result"
    }
   ],
   "source": [
    "laptop['gpu'] = gpu.apply(group_gpu)\n",
    "laptop['gpu'].value_counts()"
   ]
  },
  {
   "cell_type": "code",
   "execution_count": 127,
   "id": "70546e5a",
   "metadata": {},
   "outputs": [],
   "source": [
    "laptop.drop(columns='Gpu', inplace=True)"
   ]
  },
  {
   "cell_type": "code",
   "execution_count": 128,
   "id": "af76cd77",
   "metadata": {},
   "outputs": [
    {
     "name": "stderr",
     "output_type": "stream",
     "text": [
      "c:\\Users\\ahmad\\anaconda3\\Lib\\site-packages\\seaborn\\_oldcore.py:1498: FutureWarning: is_categorical_dtype is deprecated and will be removed in a future version. Use isinstance(dtype, CategoricalDtype) instead\n",
      "  if pd.api.types.is_categorical_dtype(vector):\n",
      "c:\\Users\\ahmad\\anaconda3\\Lib\\site-packages\\seaborn\\_oldcore.py:1498: FutureWarning: is_categorical_dtype is deprecated and will be removed in a future version. Use isinstance(dtype, CategoricalDtype) instead\n",
      "  if pd.api.types.is_categorical_dtype(vector):\n",
      "c:\\Users\\ahmad\\anaconda3\\Lib\\site-packages\\seaborn\\_oldcore.py:1498: FutureWarning: is_categorical_dtype is deprecated and will be removed in a future version. Use isinstance(dtype, CategoricalDtype) instead\n",
      "  if pd.api.types.is_categorical_dtype(vector):\n"
     ]
    },
    {
     "data": {
      "image/png": "[encoded data removed]",
      "text/plain": [
       "<Figure size 640x480 with 1 Axes>"
      ]
     },
     "metadata": {},
     "output_type": "display_data"
    }
   ],
   "source": [
    "# How does price vary with processor?\n",
    "sns.barplot(x=laptop['gpu'], y=laptop['Price'])\n",
    "plt.xticks(rotation='vertical')\n",
    "plt.show()"
   ]
  },
  {
   "cell_type": "markdown",
   "id": "6d316a68",
   "metadata": {},
   "source": [
    "### OS Column"
   ]
  },
  {
   "cell_type": "code",
   "execution_count": 129,
   "id": "f636d7e6",
   "metadata": {},
   "outputs": [
    {
     "data": {
      "text/plain": [
       "array(['macOS', 'No OS', 'Windows 10', 'Mac OS X', 'Linux',\n",
       "       'Windows 10 S', 'Chrome OS', 'Windows 7', 'Android'], dtype=object)"
      ]
     },
     "execution_count": 129,
     "metadata": {},
     "output_type": "execute_result"
    }
   ],
   "source": [
    "laptop['OpSys'].unique()"
   ]
  },
  {
   "cell_type": "code",
   "execution_count": 130,
   "id": "e33b3e7d",
   "metadata": {},
   "outputs": [],
   "source": [
    "def group_os(os):\n",
    "\tif os in ['Windows 10', 'Windows 10 S', 'Windows 7']:\n",
    "\t\treturn 'Windows'\n",
    "\telif os in ['MacOS', 'Mac OS X']:\n",
    "\t\treturn 'Mac'\n",
    "\telse:\n",
    "\t\treturn 'Linux/Others/No Os'"
   ]
  },
  {
   "cell_type": "code",
   "execution_count": 131,
   "id": "135c97e0",
   "metadata": {},
   "outputs": [
    {
     "data": {
      "application/vnd.microsoft.datawrangler.viewer.v0+json": {
       "columns": [
        {
         "name": "os",
         "rawType": "object",
         "type": "string"
        },
        {
         "name": "count",
         "rawType": "int64",
         "type": "integer"
        }
       ],
       "ref": "62bd7716-9347-4758-9bff-4e7d878031fd",
       "rows": [
        [
         "Windows",
         "1100"
        ],
        [
         "Linux/Others/No Os",
         "165"
        ],
        [
         "Mac",
         "8"
        ]
       ],
       "shape": {
        "columns": 1,
        "rows": 3
       }
      },
      "text/plain": [
       "os\n",
       "Windows               1100\n",
       "Linux/Others/No Os     165\n",
       "Mac                      8\n",
       "Name: count, dtype: int64"
      ]
     },
     "execution_count": 131,
     "metadata": {},
     "output_type": "execute_result"
    }
   ],
   "source": [
    "laptop['os'] = laptop['OpSys'].apply(group_os)\n",
    "laptop['os'].value_counts()"
   ]
  },
  {
   "cell_type": "code",
   "execution_count": 132,
   "id": "294bad6a",
   "metadata": {},
   "outputs": [],
   "source": [
    "laptop.drop(columns='OpSys', inplace=True)"
   ]
  },
  {
   "cell_type": "code",
   "execution_count": 133,
   "id": "a05d2652",
   "metadata": {},
   "outputs": [
    {
     "name": "stderr",
     "output_type": "stream",
     "text": [
      "c:\\Users\\ahmad\\anaconda3\\Lib\\site-packages\\seaborn\\_oldcore.py:1498: FutureWarning: is_categorical_dtype is deprecated and will be removed in a future version. Use isinstance(dtype, CategoricalDtype) instead\n",
      "  if pd.api.types.is_categorical_dtype(vector):\n",
      "c:\\Users\\ahmad\\anaconda3\\Lib\\site-packages\\seaborn\\_oldcore.py:1498: FutureWarning: is_categorical_dtype is deprecated and will be removed in a future version. Use isinstance(dtype, CategoricalDtype) instead\n",
      "  if pd.api.types.is_categorical_dtype(vector):\n",
      "c:\\Users\\ahmad\\anaconda3\\Lib\\site-packages\\seaborn\\_oldcore.py:1498: FutureWarning: is_categorical_dtype is deprecated and will be removed in a future version. Use isinstance(dtype, CategoricalDtype) instead\n",
      "  if pd.api.types.is_categorical_dtype(vector):\n"
     ]
    },
    {
     "data": {
      "image/png": "[encoded data removed]",
      "text/plain": [
       "<Figure size 640x480 with 1 Axes>"
      ]
     },
     "metadata": {},
     "output_type": "display_data"
    }
   ],
   "source": [
    "# How does price vary with processor?\n",
    "sns.barplot(x=laptop['os'], y=laptop['Price'])\n",
    "plt.xticks(rotation='vertical')\n",
    "plt.show()"
   ]
  },
  {
   "cell_type": "markdown",
   "id": "1b93456c",
   "metadata": {},
   "source": [
    "### Memory Column"
   ]
  },
  {
   "cell_type": "code",
   "execution_count": 134,
   "id": "87d56abf",
   "metadata": {},
   "outputs": [
    {
     "data": {
      "text/plain": [
       "array(['128GB SSD', '128GB Flash Storage', '256GB SSD', '512GB SSD',\n",
       "       '500GB HDD', '256GB Flash Storage', '1TB HDD',\n",
       "       '128GB SSD +  1TB HDD', '256GB SSD +  256GB SSD',\n",
       "       '64GB Flash Storage', '32GB Flash Storage', '256GB SSD +  1TB HDD',\n",
       "       '256GB SSD +  2TB HDD', '32GB SSD', '2TB HDD', '64GB SSD',\n",
       "       '1.0TB Hybrid', '512GB SSD +  1TB HDD', '1TB SSD',\n",
       "       '256GB SSD +  500GB HDD', '128GB SSD +  2TB HDD',\n",
       "       '512GB SSD +  512GB SSD', '16GB SSD', '16GB Flash Storage',\n",
       "       '512GB SSD +  256GB SSD', '512GB SSD +  2TB HDD',\n",
       "       '64GB Flash Storage +  1TB HDD', '180GB SSD', '1TB HDD +  1TB HDD',\n",
       "       '32GB HDD', '1TB SSD +  1TB HDD', '?', '512GB Flash Storage',\n",
       "       '128GB HDD', '240GB SSD', '8GB SSD', '508GB Hybrid', '1.0TB HDD',\n",
       "       '512GB SSD +  1.0TB Hybrid', '256GB SSD +  1.0TB Hybrid'],\n",
       "      dtype=object)"
      ]
     },
     "execution_count": 134,
     "metadata": {},
     "output_type": "execute_result"
    }
   ],
   "source": [
    "laptop['Memory'].unique() # 40 different kinds of memory"
   ]
  },
  {
   "cell_type": "markdown",
   "id": "3796d777",
   "metadata": {},
   "source": [
    "This memory column is a noisy column that gives an understanding of Hard Drives."
   ]
  },
  {
   "cell_type": "markdown",
   "id": "c6e91a75",
   "metadata": {},
   "source": [
    "4 different categories of memory; HHD, SSD, Flash Storage, and Hybrid"
   ]
  },
  {
   "cell_type": "code",
   "execution_count": 135,
   "id": "1644598d",
   "metadata": {},
   "outputs": [],
   "source": [
    "def extract_memory(mem):\n",
    "\thdd = ssd = hybrid = flash = 0\n",
    "\tparts = mem.split('+')\n",
    "\tfor part in parts:\n",
    "\t\tpart = part.strip()\n",
    "\t\tsize = 0\n",
    "\t\tif 'TB' in part:\n",
    "\t\t\tsize = int(float(part.split('TB')[0]) * 1000)\n",
    "\t\telif 'GB' in part:\n",
    "\t\t\tsize = int(part.split('GB')[0])\n",
    "\t\tif 'HDD' in part:\n",
    "\t\t\thdd += size\n",
    "\t\telif 'SSD' in part:\n",
    "\t\t\tssd += size\n",
    "\t\telif 'Hybrid' in part:\n",
    "\t\t\thybrid += size\n",
    "\t\telif 'Flash Storage' in part:\n",
    "\t\t\tflash += size\n",
    "\treturn pd.Series([hdd, ssd, hybrid, flash])"
   ]
  },
  {
   "cell_type": "code",
   "execution_count": 136,
   "id": "80f81072",
   "metadata": {},
   "outputs": [
    {
     "data": {
      "application/vnd.microsoft.datawrangler.viewer.v0+json": {
       "columns": [
        {
         "name": "index",
         "rawType": "int64",
         "type": "integer"
        },
        {
         "name": "HDD",
         "rawType": "int64",
         "type": "integer"
        },
        {
         "name": "SSD",
         "rawType": "int64",
         "type": "integer"
        },
        {
         "name": "Hybrid",
         "rawType": "int64",
         "type": "integer"
        },
        {
         "name": "Flash",
         "rawType": "int64",
         "type": "integer"
        }
       ],
       "ref": "5a10b7a2-4c47-4cbd-ba02-6f3e7ed09adf",
       "rows": [
        [
         "0",
         "0",
         "128",
         "0",
         "0"
        ],
        [
         "1",
         "0",
         "0",
         "0",
         "128"
        ],
        [
         "2",
         "0",
         "256",
         "0",
         "0"
        ],
        [
         "3",
         "0",
         "512",
         "0",
         "0"
        ],
        [
         "4",
         "0",
         "256",
         "0",
         "0"
        ],
        [
         "5",
         "500",
         "0",
         "0",
         "0"
        ],
        [
         "6",
         "0",
         "0",
         "0",
         "256"
        ],
        [
         "7",
         "0",
         "0",
         "0",
         "256"
        ],
        [
         "8",
         "0",
         "512",
         "0",
         "0"
        ],
        [
         "9",
         "0",
         "256",
         "0",
         "0"
        ],
        [
         "10",
         "500",
         "0",
         "0",
         "0"
        ],
        [
         "11",
         "500",
         "0",
         "0",
         "0"
        ],
        [
         "12",
         "0",
         "256",
         "0",
         "0"
        ],
        [
         "13",
         "0",
         "256",
         "0",
         "0"
        ],
        [
         "14",
         "0",
         "256",
         "0",
         "0"
        ],
        [
         "15",
         "0",
         "256",
         "0",
         "0"
        ],
        [
         "16",
         "0",
         "256",
         "0",
         "0"
        ],
        [
         "17",
         "0",
         "512",
         "0",
         "0"
        ],
        [
         "18",
         "1000",
         "0",
         "0",
         "0"
        ],
        [
         "19",
         "0",
         "128",
         "0",
         "0"
        ],
        [
         "21",
         "1000",
         "128",
         "0",
         "0"
        ],
        [
         "22",
         "500",
         "0",
         "0",
         "0"
        ],
        [
         "23",
         "0",
         "256",
         "0",
         "0"
        ],
        [
         "24",
         "0",
         "256",
         "0",
         "0"
        ],
        [
         "25",
         "1000",
         "0",
         "0",
         "0"
        ],
        [
         "26",
         "0",
         "0",
         "0",
         "128"
        ],
        [
         "27",
         "0",
         "256",
         "0",
         "0"
        ],
        [
         "28",
         "0",
         "512",
         "0",
         "0"
        ],
        [
         "29",
         "1000",
         "0",
         "0",
         "0"
        ],
        [
         "30",
         "0",
         "0",
         "0",
         "64"
        ],
        [
         "31",
         "0",
         "0",
         "0",
         "32"
        ],
        [
         "32",
         "500",
         "0",
         "0",
         "0"
        ],
        [
         "33",
         "0",
         "512",
         "0",
         "0"
        ],
        [
         "34",
         "0",
         "0",
         "0",
         "256"
        ],
        [
         "35",
         "0",
         "0",
         "0",
         "64"
        ],
        [
         "36",
         "1000",
         "0",
         "0",
         "0"
        ],
        [
         "37",
         "1000",
         "128",
         "0",
         "0"
        ],
        [
         "38",
         "1000",
         "0",
         "0",
         "0"
        ],
        [
         "39",
         "0",
         "256",
         "0",
         "0"
        ],
        [
         "40",
         "1000",
         "0",
         "0",
         "0"
        ],
        [
         "41",
         "1000",
         "256",
         "0",
         "0"
        ],
        [
         "42",
         "1000",
         "0",
         "0",
         "0"
        ],
        [
         "43",
         "0",
         "256",
         "0",
         "0"
        ],
        [
         "44",
         "1000",
         "0",
         "0",
         "0"
        ],
        [
         "45",
         "0",
         "256",
         "0",
         "0"
        ],
        [
         "47",
         "1000",
         "256",
         "0",
         "0"
        ],
        [
         "48",
         "0",
         "256",
         "0",
         "0"
        ],
        [
         "49",
         "1000",
         "0",
         "0",
         "0"
        ],
        [
         "51",
         "0",
         "256",
         "0",
         "0"
        ],
        [
         "52",
         "0",
         "256",
         "0",
         "0"
        ]
       ],
       "shape": {
        "columns": 4,
        "rows": 1273
       }
      },
      "text/html": [
       "<div>\n",
       "<style scoped>\n",
       "    .dataframe tbody tr th:only-of-type {\n",
       "        vertical-align: middle;\n",
       "    }\n",
       "\n",
       "    .dataframe tbody tr th {\n",
       "        vertical-align: top;\n",
       "    }\n",
       "\n",
       "    .dataframe thead th {\n",
       "        text-align: right;\n",
       "    }\n",
       "</style>\n",
       "<table border=\"1\" class=\"dataframe\">\n",
       "  <thead>\n",
       "    <tr style=\"text-align: right;\">\n",
       "      <th></th>\n",
       "      <th>HDD</th>\n",
       "      <th>SSD</th>\n",
       "      <th>Hybrid</th>\n",
       "      <th>Flash</th>\n",
       "    </tr>\n",
       "  </thead>\n",
       "  <tbody>\n",
       "    <tr>\n",
       "      <th>0</th>\n",
       "      <td>0</td>\n",
       "      <td>128</td>\n",
       "      <td>0</td>\n",
       "      <td>0</td>\n",
       "    </tr>\n",
       "    <tr>\n",
       "      <th>1</th>\n",
       "      <td>0</td>\n",
       "      <td>0</td>\n",
       "      <td>0</td>\n",
       "      <td>128</td>\n",
       "    </tr>\n",
       "    <tr>\n",
       "      <th>2</th>\n",
       "      <td>0</td>\n",
       "      <td>256</td>\n",
       "      <td>0</td>\n",
       "      <td>0</td>\n",
       "    </tr>\n",
       "    <tr>\n",
       "      <th>3</th>\n",
       "      <td>0</td>\n",
       "      <td>512</td>\n",
       "      <td>0</td>\n",
       "      <td>0</td>\n",
       "    </tr>\n",
       "    <tr>\n",
       "      <th>4</th>\n",
       "      <td>0</td>\n",
       "      <td>256</td>\n",
       "      <td>0</td>\n",
       "      <td>0</td>\n",
       "    </tr>\n",
       "    <tr>\n",
       "      <th>...</th>\n",
       "      <td>...</td>\n",
       "      <td>...</td>\n",
       "      <td>...</td>\n",
       "      <td>...</td>\n",
       "    </tr>\n",
       "    <tr>\n",
       "      <th>1298</th>\n",
       "      <td>0</td>\n",
       "      <td>128</td>\n",
       "      <td>0</td>\n",
       "      <td>0</td>\n",
       "    </tr>\n",
       "    <tr>\n",
       "      <th>1299</th>\n",
       "      <td>0</td>\n",
       "      <td>512</td>\n",
       "      <td>0</td>\n",
       "      <td>0</td>\n",
       "    </tr>\n",
       "    <tr>\n",
       "      <th>1300</th>\n",
       "      <td>0</td>\n",
       "      <td>0</td>\n",
       "      <td>0</td>\n",
       "      <td>64</td>\n",
       "    </tr>\n",
       "    <tr>\n",
       "      <th>1301</th>\n",
       "      <td>1000</td>\n",
       "      <td>0</td>\n",
       "      <td>0</td>\n",
       "      <td>0</td>\n",
       "    </tr>\n",
       "    <tr>\n",
       "      <th>1302</th>\n",
       "      <td>500</td>\n",
       "      <td>0</td>\n",
       "      <td>0</td>\n",
       "      <td>0</td>\n",
       "    </tr>\n",
       "  </tbody>\n",
       "</table>\n",
       "<p>1273 rows × 4 columns</p>\n",
       "</div>"
      ],
      "text/plain": [
       "       HDD  SSD  Hybrid  Flash\n",
       "0        0  128       0      0\n",
       "1        0    0       0    128\n",
       "2        0  256       0      0\n",
       "3        0  512       0      0\n",
       "4        0  256       0      0\n",
       "...    ...  ...     ...    ...\n",
       "1298     0  128       0      0\n",
       "1299     0  512       0      0\n",
       "1300     0    0       0     64\n",
       "1301  1000    0       0      0\n",
       "1302   500    0       0      0\n",
       "\n",
       "[1273 rows x 4 columns]"
      ]
     },
     "execution_count": 136,
     "metadata": {},
     "output_type": "execute_result"
    }
   ],
   "source": [
    "laptop[['HDD', 'SSD', 'Hybrid', 'Flash']] = laptop['Memory'].apply(extract_memory)\n",
    "laptop[['HDD', 'SSD', 'Hybrid', 'Flash']]"
   ]
  },
  {
   "cell_type": "code",
   "execution_count": 137,
   "id": "334b7607-068e-4473-aa71-298e4efd6762",
   "metadata": {},
   "outputs": [],
   "source": [
    "# drop memory column\n",
    "laptop.drop(columns='Memory', inplace=True)"
   ]
  },
  {
   "cell_type": "code",
   "execution_count": 138,
   "id": "9ca625ab",
   "metadata": {},
   "outputs": [
    {
     "data": {
      "application/vnd.microsoft.datawrangler.viewer.v0+json": {
       "columns": [
        {
         "name": "index",
         "rawType": "int64",
         "type": "integer"
        },
        {
         "name": "Company",
         "rawType": "object",
         "type": "string"
        },
        {
         "name": "TypeName",
         "rawType": "object",
         "type": "string"
        },
        {
         "name": "Ram",
         "rawType": "int32",
         "type": "integer"
        },
        {
         "name": "Weight",
         "rawType": "float64",
         "type": "float"
        },
        {
         "name": "Price",
         "rawType": "float64",
         "type": "float"
        },
        {
         "name": "Touchscreen",
         "rawType": "int32",
         "type": "integer"
        },
        {
         "name": "IPS",
         "rawType": "int32",
         "type": "integer"
        },
        {
         "name": "Resolution",
         "rawType": "object",
         "type": "string"
        },
        {
         "name": "PPI",
         "rawType": "float64",
         "type": "float"
        },
        {
         "name": "cpu",
         "rawType": "object",
         "type": "string"
        },
        {
         "name": "gpu",
         "rawType": "object",
         "type": "string"
        },
        {
         "name": "os",
         "rawType": "object",
         "type": "string"
        },
        {
         "name": "HDD",
         "rawType": "int64",
         "type": "integer"
        },
        {
         "name": "SSD",
         "rawType": "int64",
         "type": "integer"
        },
        {
         "name": "Hybrid",
         "rawType": "int64",
         "type": "integer"
        },
        {
         "name": "Flash",
         "rawType": "int64",
         "type": "integer"
        }
       ],
       "ref": "c030398b-826f-4d97-bda4-e4aa263483b2",
       "rows": [
        [
         "0",
         "Apple",
         "Ultrabook",
         "8",
         "1.37",
         "71378.6832",
         "0",
         "1",
         "2560x1600",
         "226.98300468106115",
         "Intel Core",
         "Intel",
         "Linux/Others/No Os",
         "0",
         "128",
         "0",
         "0"
        ],
        [
         "1",
         "Apple",
         "Ultrabook",
         "8",
         "1.34",
         "47895.5232",
         "0",
         "0",
         "1440x900",
         "127.67794013309688",
         "Intel Core",
         "Intel",
         "Linux/Others/No Os",
         "0",
         "0",
         "0",
         "128"
        ],
        [
         "2",
         "HP",
         "Notebook",
         "8",
         "1.86",
         "30636.0",
         "0",
         "0",
         "1920x1080",
         "141.21199808219862",
         "Intel Core",
         "Intel",
         "Linux/Others/No Os",
         "0",
         "256",
         "0",
         "0"
        ],
        [
         "3",
         "Apple",
         "Ultrabook",
         "16",
         "1.83",
         "135195.336",
         "0",
         "1",
         "2880x1800",
         "220.53462386625827",
         "Intel Core",
         "AMD",
         "Linux/Others/No Os",
         "0",
         "512",
         "0",
         "0"
        ],
        [
         "4",
         "Apple",
         "Ultrabook",
         "8",
         "1.37",
         "96095.808",
         "0",
         "1",
         "2560x1600",
         "226.98300468106115",
         "Intel Core",
         "Intel",
         "Linux/Others/No Os",
         "0",
         "256",
         "0",
         "0"
        ]
       ],
       "shape": {
        "columns": 16,
        "rows": 5
       }
      },
      "text/html": [
       "<div>\n",
       "<style scoped>\n",
       "    .dataframe tbody tr th:only-of-type {\n",
       "        vertical-align: middle;\n",
       "    }\n",
       "\n",
       "    .dataframe tbody tr th {\n",
       "        vertical-align: top;\n",
       "    }\n",
       "\n",
       "    .dataframe thead th {\n",
       "        text-align: right;\n",
       "    }\n",
       "</style>\n",
       "<table border=\"1\" class=\"dataframe\">\n",
       "  <thead>\n",
       "    <tr style=\"text-align: right;\">\n",
       "      <th></th>\n",
       "      <th>Company</th>\n",
       "      <th>TypeName</th>\n",
       "      <th>Ram</th>\n",
       "      <th>Weight</th>\n",
       "      <th>Price</th>\n",
       "      <th>Touchscreen</th>\n",
       "      <th>IPS</th>\n",
       "      <th>Resolution</th>\n",
       "      <th>PPI</th>\n",
       "      <th>cpu</th>\n",
       "      <th>gpu</th>\n",
       "      <th>os</th>\n",
       "      <th>HDD</th>\n",
       "      <th>SSD</th>\n",
       "      <th>Hybrid</th>\n",
       "      <th>Flash</th>\n",
       "    </tr>\n",
       "  </thead>\n",
       "  <tbody>\n",
       "    <tr>\n",
       "      <th>0</th>\n",
       "      <td>Apple</td>\n",
       "      <td>Ultrabook</td>\n",
       "      <td>8</td>\n",
       "      <td>1.37</td>\n",
       "      <td>71378.6832</td>\n",
       "      <td>0</td>\n",
       "      <td>1</td>\n",
       "      <td>2560x1600</td>\n",
       "      <td>226.983005</td>\n",
       "      <td>Intel Core</td>\n",
       "      <td>Intel</td>\n",
       "      <td>Linux/Others/No Os</td>\n",
       "      <td>0</td>\n",
       "      <td>128</td>\n",
       "      <td>0</td>\n",
       "      <td>0</td>\n",
       "    </tr>\n",
       "    <tr>\n",
       "      <th>1</th>\n",
       "      <td>Apple</td>\n",
       "      <td>Ultrabook</td>\n",
       "      <td>8</td>\n",
       "      <td>1.34</td>\n",
       "      <td>47895.5232</td>\n",
       "      <td>0</td>\n",
       "      <td>0</td>\n",
       "      <td>1440x900</td>\n",
       "      <td>127.677940</td>\n",
       "      <td>Intel Core</td>\n",
       "      <td>Intel</td>\n",
       "      <td>Linux/Others/No Os</td>\n",
       "      <td>0</td>\n",
       "      <td>0</td>\n",
       "      <td>0</td>\n",
       "      <td>128</td>\n",
       "    </tr>\n",
       "    <tr>\n",
       "      <th>2</th>\n",
       "      <td>HP</td>\n",
       "      <td>Notebook</td>\n",
       "      <td>8</td>\n",
       "      <td>1.86</td>\n",
       "      <td>30636.0000</td>\n",
       "      <td>0</td>\n",
       "      <td>0</td>\n",
       "      <td>1920x1080</td>\n",
       "      <td>141.211998</td>\n",
       "      <td>Intel Core</td>\n",
       "      <td>Intel</td>\n",
       "      <td>Linux/Others/No Os</td>\n",
       "      <td>0</td>\n",
       "      <td>256</td>\n",
       "      <td>0</td>\n",
       "      <td>0</td>\n",
       "    </tr>\n",
       "    <tr>\n",
       "      <th>3</th>\n",
       "      <td>Apple</td>\n",
       "      <td>Ultrabook</td>\n",
       "      <td>16</td>\n",
       "      <td>1.83</td>\n",
       "      <td>135195.3360</td>\n",
       "      <td>0</td>\n",
       "      <td>1</td>\n",
       "      <td>2880x1800</td>\n",
       "      <td>220.534624</td>\n",
       "      <td>Intel Core</td>\n",
       "      <td>AMD</td>\n",
       "      <td>Linux/Others/No Os</td>\n",
       "      <td>0</td>\n",
       "      <td>512</td>\n",
       "      <td>0</td>\n",
       "      <td>0</td>\n",
       "    </tr>\n",
       "    <tr>\n",
       "      <th>4</th>\n",
       "      <td>Apple</td>\n",
       "      <td>Ultrabook</td>\n",
       "      <td>8</td>\n",
       "      <td>1.37</td>\n",
       "      <td>96095.8080</td>\n",
       "      <td>0</td>\n",
       "      <td>1</td>\n",
       "      <td>2560x1600</td>\n",
       "      <td>226.983005</td>\n",
       "      <td>Intel Core</td>\n",
       "      <td>Intel</td>\n",
       "      <td>Linux/Others/No Os</td>\n",
       "      <td>0</td>\n",
       "      <td>256</td>\n",
       "      <td>0</td>\n",
       "      <td>0</td>\n",
       "    </tr>\n",
       "  </tbody>\n",
       "</table>\n",
       "</div>"
      ],
      "text/plain": [
       "  Company   TypeName  Ram  Weight        Price  Touchscreen  IPS Resolution  \\\n",
       "0   Apple  Ultrabook    8    1.37   71378.6832            0    1  2560x1600   \n",
       "1   Apple  Ultrabook    8    1.34   47895.5232            0    0   1440x900   \n",
       "2      HP   Notebook    8    1.86   30636.0000            0    0  1920x1080   \n",
       "3   Apple  Ultrabook   16    1.83  135195.3360            0    1  2880x1800   \n",
       "4   Apple  Ultrabook    8    1.37   96095.8080            0    1  2560x1600   \n",
       "\n",
       "          PPI         cpu    gpu                  os  HDD  SSD  Hybrid  Flash  \n",
       "0  226.983005  Intel Core  Intel  Linux/Others/No Os    0  128       0      0  \n",
       "1  127.677940  Intel Core  Intel  Linux/Others/No Os    0    0       0    128  \n",
       "2  141.211998  Intel Core  Intel  Linux/Others/No Os    0  256       0      0  \n",
       "3  220.534624  Intel Core    AMD  Linux/Others/No Os    0  512       0      0  \n",
       "4  226.983005  Intel Core  Intel  Linux/Others/No Os    0  256       0      0  "
      ]
     },
     "execution_count": 138,
     "metadata": {},
     "output_type": "execute_result"
    }
   ],
   "source": [
    "laptop.head()"
   ]
  },
  {
   "cell_type": "code",
   "execution_count": null,
   "id": "82e1c218",
   "metadata": {},
   "outputs": [],
   "source": []
  },
  {
   "cell_type": "markdown",
   "id": "e1cbac0a",
   "metadata": {},
   "source": [
    "### Automation Class"
   ]
  },
  {
   "cell_type": "code",
   "execution_count": 139,
   "id": "305dc111",
   "metadata": {},
   "outputs": [],
   "source": [
    "class LaptopFeatureEngineer:\n",
    "    def __init__(self):\n",
    "        pass\n",
    "\n",
    "    def clean_cpu(self, cpu):\n",
    "        cpu = cpu.lower()\n",
    "        if \"intel core\" in cpu:\n",
    "            return \"Intel Core\"\n",
    "        elif \"intel celeron\" in cpu or \"intel pentium\" in cpu or \"intel atom\" in cpu or \"intel xeon\" in cpu:\n",
    "            return \"Intel Other\"\n",
    "        elif \"amd ryzen\" in cpu:\n",
    "            return \"AMD Series\"\n",
    "        elif \"samsung\" in cpu:\n",
    "            return \"Others\"\n",
    "        else:\n",
    "            return \"Others\"\n",
    "\n",
    "    def clean_gpu(self, gpu):\n",
    "        gpu = gpu.lower()\n",
    "        if \"intel\" in gpu:\n",
    "            return \"Intel\"\n",
    "        elif \"nvidia\" in gpu:\n",
    "            return \"Nvidia\"\n",
    "        elif \"amd\" in gpu:\n",
    "            return \"AMD\"\n",
    "        else:\n",
    "            return \"Others\"\n",
    "\n",
    "    def clean_os(self, os):\n",
    "        if os in ['Windows 10', 'Windows 10 S', 'Windows 7']:\n",
    "            return 'Windows'\n",
    "        elif os in ['MacOS', 'Mac OS X']:\n",
    "            return 'Mac'\n",
    "        else:\n",
    "            return 'Linux/Others/No Os'\n",
    "\n",
    "    def clean_memory(self, mem):\n",
    "        hdd = ssd = hybrid = flash = 0\n",
    "        if isinstance(mem, str):\n",
    "            parts = mem.split('+')\n",
    "            for part in parts:\n",
    "                part = part.strip()\n",
    "                size = 0\n",
    "                if 'TB' in part:\n",
    "                    size = int(float(part.split('TB')[0]) * 1000)\n",
    "                elif 'GB' in part:\n",
    "                    size = int(part.split('GB')[0])\n",
    "                if 'HDD' in part:\n",
    "                    hdd += size\n",
    "                elif 'SSD' in part:\n",
    "                    ssd += size\n",
    "                elif 'Hybrid' in part:\n",
    "                    hybrid += size\n",
    "                elif 'Flash Storage' in part:\n",
    "                    flash += size\n",
    "        return pd.Series([hdd, ssd, hybrid, flash])\n",
    "\n",
    "    def transform(self, df):\n",
    "        df = df.copy()\n",
    "        df = df.dropna()\n",
    "        df = df[df['Weight'] != '?']\n",
    "        \n",
    "        df['Ram'] = df['Ram'].str.replace('GB', '').astype(int)\n",
    "        df['Weight'] = df['Weight'].str.replace('kg', '').astype(float)\n",
    "        df['Inches'] = df['Inches'].astype(float)\n",
    "\n",
    "        df['Touchscreen'] = df['ScreenResolution'].str.contains('Touchscreen', case=False).astype(int)\n",
    "        df['Resolution'] = df['ScreenResolution'].str.extract(r'(\\d+x\\d+)')[0]\n",
    "        df[['X_res', 'Y_res']] = df['Resolution'].str.split('x', expand=True).astype(float)\n",
    "        df['PPI'] = ((df['X_res']**2 + df['Y_res']**2)**0.5) / df['Inches']\n",
    "        \n",
    "        df['cpu'] = df['Cpu'].apply(lambda x: ' '.join(x.split()[:2])).apply(self.clean_cpu)\n",
    "        df['gpu'] = df['Gpu'].apply(lambda x: x.split()[0]).apply(self.clean_gpu)\n",
    "        df['os'] = df['OpSys'].apply(self.clean_os)\n",
    "\n",
    "        df[['HDD', 'SSD', 'Hybrid', 'Flash']] = df['Memory'].apply(self.clean_memory)\n",
    "\n",
    "        df.drop(columns=[\n",
    "            'Unnamed: 0', 'ScreenResolution', 'Resolution', 'X_res', 'Y_res', 'Inches',\n",
    "            'Cpu', 'Gpu', 'OpSys', 'Memory', 'OpSys',\n",
    "        ], inplace=True, errors='ignore')\n",
    "\n",
    "        return df\n"
   ]
  },
  {
   "cell_type": "code",
   "execution_count": 140,
   "id": "57803609",
   "metadata": {},
   "outputs": [],
   "source": [
    "# test preprocessing class\n",
    "preprocessing = LaptopFeatureEngineer()"
   ]
  },
  {
   "cell_type": "code",
   "execution_count": 141,
   "id": "3867dfa3",
   "metadata": {},
   "outputs": [
    {
     "data": {
      "application/vnd.microsoft.datawrangler.viewer.v0+json": {
       "columns": [
        {
         "name": "index",
         "rawType": "int64",
         "type": "integer"
        },
        {
         "name": "Company",
         "rawType": "object",
         "type": "string"
        },
        {
         "name": "TypeName",
         "rawType": "object",
         "type": "string"
        },
        {
         "name": "Ram",
         "rawType": "int32",
         "type": "integer"
        },
        {
         "name": "Weight",
         "rawType": "float64",
         "type": "float"
        },
        {
         "name": "Price",
         "rawType": "float64",
         "type": "float"
        },
        {
         "name": "Touchscreen",
         "rawType": "int32",
         "type": "integer"
        },
        {
         "name": "PPI",
         "rawType": "float64",
         "type": "float"
        },
        {
         "name": "cpu",
         "rawType": "object",
         "type": "string"
        },
        {
         "name": "gpu",
         "rawType": "object",
         "type": "string"
        },
        {
         "name": "os",
         "rawType": "object",
         "type": "string"
        },
        {
         "name": "HDD",
         "rawType": "int64",
         "type": "integer"
        },
        {
         "name": "SSD",
         "rawType": "int64",
         "type": "integer"
        },
        {
         "name": "Hybrid",
         "rawType": "int64",
         "type": "integer"
        },
        {
         "name": "Flash",
         "rawType": "int64",
         "type": "integer"
        }
       ],
       "ref": "127ef422-f2f2-4532-b541-b0aebfe5272c",
       "rows": [
        [
         "0",
         "Apple",
         "Ultrabook",
         "8",
         "1.37",
         "71378.6832",
         "0",
         "226.98300468106115",
         "Intel Core",
         "Intel",
         "Linux/Others/No Os",
         "0",
         "128",
         "0",
         "0"
        ],
        [
         "1",
         "Apple",
         "Ultrabook",
         "8",
         "1.34",
         "47895.5232",
         "0",
         "127.67794013309688",
         "Intel Core",
         "Intel",
         "Linux/Others/No Os",
         "0",
         "0",
         "0",
         "128"
        ],
        [
         "2",
         "HP",
         "Notebook",
         "8",
         "1.86",
         "30636.0",
         "0",
         "141.21199808219862",
         "Intel Core",
         "Intel",
         "Linux/Others/No Os",
         "0",
         "256",
         "0",
         "0"
        ],
        [
         "3",
         "Apple",
         "Ultrabook",
         "16",
         "1.83",
         "135195.336",
         "0",
         "220.53462386625827",
         "Intel Core",
         "AMD",
         "Linux/Others/No Os",
         "0",
         "512",
         "0",
         "0"
        ],
        [
         "4",
         "Apple",
         "Ultrabook",
         "8",
         "1.37",
         "96095.808",
         "0",
         "226.98300468106115",
         "Intel Core",
         "Intel",
         "Linux/Others/No Os",
         "0",
         "256",
         "0",
         "0"
        ]
       ],
       "shape": {
        "columns": 14,
        "rows": 5
       }
      },
      "text/html": [
       "<div>\n",
       "<style scoped>\n",
       "    .dataframe tbody tr th:only-of-type {\n",
       "        vertical-align: middle;\n",
       "    }\n",
       "\n",
       "    .dataframe tbody tr th {\n",
       "        vertical-align: top;\n",
       "    }\n",
       "\n",
       "    .dataframe thead th {\n",
       "        text-align: right;\n",
       "    }\n",
       "</style>\n",
       "<table border=\"1\" class=\"dataframe\">\n",
       "  <thead>\n",
       "    <tr style=\"text-align: right;\">\n",
       "      <th></th>\n",
       "      <th>Company</th>\n",
       "      <th>TypeName</th>\n",
       "      <th>Ram</th>\n",
       "      <th>Weight</th>\n",
       "      <th>Price</th>\n",
       "      <th>Touchscreen</th>\n",
       "      <th>PPI</th>\n",
       "      <th>cpu</th>\n",
       "      <th>gpu</th>\n",
       "      <th>os</th>\n",
       "      <th>HDD</th>\n",
       "      <th>SSD</th>\n",
       "      <th>Hybrid</th>\n",
       "      <th>Flash</th>\n",
       "    </tr>\n",
       "  </thead>\n",
       "  <tbody>\n",
       "    <tr>\n",
       "      <th>0</th>\n",
       "      <td>Apple</td>\n",
       "      <td>Ultrabook</td>\n",
       "      <td>8</td>\n",
       "      <td>1.37</td>\n",
       "      <td>71378.6832</td>\n",
       "      <td>0</td>\n",
       "      <td>226.983005</td>\n",
       "      <td>Intel Core</td>\n",
       "      <td>Intel</td>\n",
       "      <td>Linux/Others/No Os</td>\n",
       "      <td>0</td>\n",
       "      <td>128</td>\n",
       "      <td>0</td>\n",
       "      <td>0</td>\n",
       "    </tr>\n",
       "    <tr>\n",
       "      <th>1</th>\n",
       "      <td>Apple</td>\n",
       "      <td>Ultrabook</td>\n",
       "      <td>8</td>\n",
       "      <td>1.34</td>\n",
       "      <td>47895.5232</td>\n",
       "      <td>0</td>\n",
       "      <td>127.677940</td>\n",
       "      <td>Intel Core</td>\n",
       "      <td>Intel</td>\n",
       "      <td>Linux/Others/No Os</td>\n",
       "      <td>0</td>\n",
       "      <td>0</td>\n",
       "      <td>0</td>\n",
       "      <td>128</td>\n",
       "    </tr>\n",
       "    <tr>\n",
       "      <th>2</th>\n",
       "      <td>HP</td>\n",
       "      <td>Notebook</td>\n",
       "      <td>8</td>\n",
       "      <td>1.86</td>\n",
       "      <td>30636.0000</td>\n",
       "      <td>0</td>\n",
       "      <td>141.211998</td>\n",
       "      <td>Intel Core</td>\n",
       "      <td>Intel</td>\n",
       "      <td>Linux/Others/No Os</td>\n",
       "      <td>0</td>\n",
       "      <td>256</td>\n",
       "      <td>0</td>\n",
       "      <td>0</td>\n",
       "    </tr>\n",
       "    <tr>\n",
       "      <th>3</th>\n",
       "      <td>Apple</td>\n",
       "      <td>Ultrabook</td>\n",
       "      <td>16</td>\n",
       "      <td>1.83</td>\n",
       "      <td>135195.3360</td>\n",
       "      <td>0</td>\n",
       "      <td>220.534624</td>\n",
       "      <td>Intel Core</td>\n",
       "      <td>AMD</td>\n",
       "      <td>Linux/Others/No Os</td>\n",
       "      <td>0</td>\n",
       "      <td>512</td>\n",
       "      <td>0</td>\n",
       "      <td>0</td>\n",
       "    </tr>\n",
       "    <tr>\n",
       "      <th>4</th>\n",
       "      <td>Apple</td>\n",
       "      <td>Ultrabook</td>\n",
       "      <td>8</td>\n",
       "      <td>1.37</td>\n",
       "      <td>96095.8080</td>\n",
       "      <td>0</td>\n",
       "      <td>226.983005</td>\n",
       "      <td>Intel Core</td>\n",
       "      <td>Intel</td>\n",
       "      <td>Linux/Others/No Os</td>\n",
       "      <td>0</td>\n",
       "      <td>256</td>\n",
       "      <td>0</td>\n",
       "      <td>0</td>\n",
       "    </tr>\n",
       "  </tbody>\n",
       "</table>\n",
       "</div>"
      ],
      "text/plain": [
       "  Company   TypeName  Ram  Weight        Price  Touchscreen         PPI  \\\n",
       "0   Apple  Ultrabook    8    1.37   71378.6832            0  226.983005   \n",
       "1   Apple  Ultrabook    8    1.34   47895.5232            0  127.677940   \n",
       "2      HP   Notebook    8    1.86   30636.0000            0  141.211998   \n",
       "3   Apple  Ultrabook   16    1.83  135195.3360            0  220.534624   \n",
       "4   Apple  Ultrabook    8    1.37   96095.8080            0  226.983005   \n",
       "\n",
       "          cpu    gpu                  os  HDD  SSD  Hybrid  Flash  \n",
       "0  Intel Core  Intel  Linux/Others/No Os    0  128       0      0  \n",
       "1  Intel Core  Intel  Linux/Others/No Os    0    0       0    128  \n",
       "2  Intel Core  Intel  Linux/Others/No Os    0  256       0      0  \n",
       "3  Intel Core    AMD  Linux/Others/No Os    0  512       0      0  \n",
       "4  Intel Core  Intel  Linux/Others/No Os    0  256       0      0  "
      ]
     },
     "execution_count": 141,
     "metadata": {},
     "output_type": "execute_result"
    }
   ],
   "source": [
    "transformed_df = preprocessing.transform(df)\n",
    "transformed_df.head()"
   ]
  },
  {
   "cell_type": "code",
   "execution_count": 142,
   "id": "2771cec8",
   "metadata": {},
   "outputs": [
    {
     "data": {
      "application/vnd.microsoft.datawrangler.viewer.v0+json": {
       "columns": [
        {
         "name": "index",
         "rawType": "int64",
         "type": "integer"
        },
        {
         "name": "Price",
         "rawType": "float64",
         "type": "float"
        }
       ],
       "ref": "10eab531-85a6-42b7-aef2-8efece905c0d",
       "rows": [
        [
         "0",
         "71378.6832"
        ],
        [
         "1",
         "47895.5232"
        ],
        [
         "2",
         "30636.0"
        ],
        [
         "3",
         "135195.336"
        ],
        [
         "4",
         "96095.808"
        ],
        [
         "5",
         "21312.0"
        ],
        [
         "6",
         "114017.6016"
        ],
        [
         "7",
         "61735.536"
        ],
        [
         "8",
         "79653.6"
        ],
        [
         "9",
         "41025.6"
        ],
        [
         "10",
         "20986.992"
        ],
        [
         "11",
         "18381.0672"
        ],
        [
         "12",
         "130001.6016"
        ],
        [
         "13",
         "26581.392"
        ],
        [
         "14",
         "67260.672"
        ],
        [
         "15",
         "80908.344"
        ],
        [
         "16",
         "39693.6"
        ],
        [
         "17",
         "152274.24"
        ],
        [
         "18",
         "26586.72"
        ],
        [
         "19",
         "52161.12"
        ],
        [
         "21",
         "53226.72"
        ],
        [
         "22",
         "13746.24"
        ],
        [
         "23",
         "43636.32"
        ],
        [
         "24",
         "35111.52"
        ],
        [
         "25",
         "22305.1392"
        ],
        [
         "26",
         "58554.72"
        ],
        [
         "27",
         "42624.0"
        ],
        [
         "28",
         "69157.44"
        ],
        [
         "29",
         "47738.88"
        ],
        [
         "30",
         "13053.0672"
        ],
        [
         "31",
         "10602.72"
        ],
        [
         "32",
         "23389.92"
        ],
        [
         "33",
         "99580.32"
        ],
        [
         "34",
         "53173.44"
        ],
        [
         "35",
         "13266.72"
        ],
        [
         "36",
         "19553.76"
        ],
        [
         "37",
         "52161.12"
        ],
        [
         "38",
         "26037.4032"
        ],
        [
         "39",
         "46833.12"
        ],
        [
         "40",
         "20725.92"
        ],
        [
         "41",
         "79866.72"
        ],
        [
         "42",
         "27864.9072"
        ],
        [
         "43",
         "36336.96"
        ],
        [
         "44",
         "53226.72"
        ],
        [
         "45",
         "75604.32"
        ],
        [
         "47",
         "69210.72"
        ],
        [
         "48",
         "34045.92"
        ],
        [
         "49",
         "24828.48"
        ],
        [
         "51",
         "44808.48"
        ],
        [
         "52",
         "21231.5472"
        ]
       ],
       "shape": {
        "columns": 1,
        "rows": 1273
       }
      },
      "text/plain": [
       "0        71378.6832\n",
       "1        47895.5232\n",
       "2        30636.0000\n",
       "3       135195.3360\n",
       "4        96095.8080\n",
       "           ...     \n",
       "1298     33992.6400\n",
       "1299     79866.7200\n",
       "1300     12201.1200\n",
       "1301     40705.9200\n",
       "1302     19660.3200\n",
       "Name: Price, Length: 1273, dtype: float64"
      ]
     },
     "execution_count": 142,
     "metadata": {},
     "output_type": "execute_result"
    }
   ],
   "source": [
    "transformed_df['Price']"
   ]
  },
  {
   "cell_type": "code",
   "execution_count": 143,
   "id": "00a7df23",
   "metadata": {},
   "outputs": [
    {
     "name": "stderr",
     "output_type": "stream",
     "text": [
      "c:\\Users\\ahmad\\anaconda3\\Lib\\site-packages\\seaborn\\_oldcore.py:1498: FutureWarning: is_categorical_dtype is deprecated and will be removed in a future version. Use isinstance(dtype, CategoricalDtype) instead\n",
      "  if pd.api.types.is_categorical_dtype(vector):\n",
      "c:\\Users\\ahmad\\anaconda3\\Lib\\site-packages\\seaborn\\_oldcore.py:1119: FutureWarning: use_inf_as_na option is deprecated and will be removed in a future version. Convert inf values to NaN before operating instead.\n",
      "  with pd.option_context('mode.use_inf_as_na', True):\n"
     ]
    },
    {
     "data": {
      "image/png": "[encoded data removed]",
      "text/plain": [
       "<Figure size 640x480 with 1 Axes>"
      ]
     },
     "metadata": {},
     "output_type": "display_data"
    }
   ],
   "source": [
    "# plotting the price (target attribute)\n",
    "sns.histplot(transformed_df['Price'], kde=True, color='skyblue', edgecolor=None)\n",
    "plt.show()"
   ]
  },
  {
   "cell_type": "markdown",
   "id": "99baee07",
   "metadata": {},
   "source": [
    "The distribution of the target variable(Price) is right-skewed. By transforming it to normal distribution, performance of the\n",
    "algorithm will increase. We can take log of the values which will transform to a normal distribution."
   ]
  },
  {
   "cell_type": "markdown",
   "id": "106e5e2f",
   "metadata": {},
   "source": [
    "### Log-Normal Transformation"
   ]
  },
  {
   "cell_type": "code",
   "execution_count": 144,
   "id": "e79a0e17",
   "metadata": {},
   "outputs": [
    {
     "name": "stderr",
     "output_type": "stream",
     "text": [
      "c:\\Users\\ahmad\\anaconda3\\Lib\\site-packages\\seaborn\\_oldcore.py:1498: FutureWarning: is_categorical_dtype is deprecated and will be removed in a future version. Use isinstance(dtype, CategoricalDtype) instead\n",
      "  if pd.api.types.is_categorical_dtype(vector):\n",
      "c:\\Users\\ahmad\\anaconda3\\Lib\\site-packages\\seaborn\\_oldcore.py:1119: FutureWarning: use_inf_as_na option is deprecated and will be removed in a future version. Convert inf values to NaN before operating instead.\n",
      "  with pd.option_context('mode.use_inf_as_na', True):\n"
     ]
    },
    {
     "data": {
      "image/png": "[encoded data removed]",
      "text/plain": [
       "<Figure size 640x480 with 1 Axes>"
      ]
     },
     "metadata": {},
     "output_type": "display_data"
    }
   ],
   "source": [
    "sns.histplot(np.log(transformed_df['Price']), kde=True, color='skyblue', edgecolor=None)\n",
    "plt.show()"
   ]
  },
  {
   "cell_type": "markdown",
   "id": "4572e324",
   "metadata": {},
   "source": [
    "##### Corrlation of Features with Price"
   ]
  },
  {
   "cell_type": "code",
   "execution_count": 145,
   "id": "637e5d08",
   "metadata": {},
   "outputs": [
    {
     "data": {
      "application/vnd.microsoft.datawrangler.viewer.v0+json": {
       "columns": [
        {
         "name": "index",
         "rawType": "object",
         "type": "string"
        },
        {
         "name": "Price",
         "rawType": "float64",
         "type": "float"
        }
       ],
       "ref": "2784117c-b471-49be-b151-75c8505f650a",
       "rows": [
        [
         "Price",
         "1.0"
        ],
        [
         "Ram",
         "0.6856477245388363"
        ],
        [
         "SSD",
         "0.6684156128928084"
        ],
        [
         "PPI",
         "0.4695203832230468"
        ],
        [
         "Touchscreen",
         "0.1889940778762112"
        ],
        [
         "Weight",
         "0.1759662273027763"
        ],
        [
         "Hybrid",
         "0.007842663629770026"
        ],
        [
         "Flash",
         "-0.038332201836044445"
        ],
        [
         "HDD",
         "-0.09539351887928343"
        ]
       ],
       "shape": {
        "columns": 1,
        "rows": 9
       }
      },
      "text/plain": [
       "Price          1.000000\n",
       "Ram            0.685648\n",
       "SSD            0.668416\n",
       "PPI            0.469520\n",
       "Touchscreen    0.188994\n",
       "Weight         0.175966\n",
       "Hybrid         0.007843\n",
       "Flash         -0.038332\n",
       "HDD           -0.095394\n",
       "Name: Price, dtype: float64"
      ]
     },
     "execution_count": 145,
     "metadata": {},
     "output_type": "execute_result"
    }
   ],
   "source": [
    "transformed_df.select_dtypes(exclude='O').corr()['Price'].sort_values(ascending=False)"
   ]
  },
  {
   "cell_type": "markdown",
   "id": "87c155ac",
   "metadata": {},
   "source": [
    "### ML Modeling!"
   ]
  },
  {
   "cell_type": "markdown",
   "id": "60a7d4ff",
   "metadata": {},
   "source": [
    "##### Features Importance to check predictive power"
   ]
  },
  {
   "cell_type": "code",
   "execution_count": 146,
   "id": "b3e29b5e",
   "metadata": {},
   "outputs": [],
   "source": [
    "from sklearn.compose import ColumnTransformer\n",
    "from sklearn.preprocessing import OneHotEncoder\n",
    "from sklearn.pipeline import Pipeline"
   ]
  },
  {
   "cell_type": "code",
   "execution_count": 163,
   "id": "f352682b",
   "metadata": {},
   "outputs": [],
   "source": [
    "X = transformed_df.drop(columns='Price')\n",
    "y = np.log(transformed_df['Price'])"
   ]
  },
  {
   "cell_type": "code",
   "execution_count": 164,
   "id": "09a667cf",
   "metadata": {},
   "outputs": [],
   "source": [
    "preprocessor = ColumnTransformer(\n",
    "\ttransformers=[\n",
    "\t\t('cat', OneHotEncoder(handle_unknown='ignore'), ['Company', 'TypeName', 'cpu', 'gpu', 'os'])\n",
    "\t],\n",
    "\tremainder='passthrough'  # keep the rest of the columns as they are\n",
    ")"
   ]
  },
  {
   "cell_type": "code",
   "execution_count": 165,
   "id": "a7686000",
   "metadata": {},
   "outputs": [
    {
     "data": {
      "text/plain": [
       "(1273, 44)"
      ]
     },
     "execution_count": 165,
     "metadata": {},
     "output_type": "execute_result"
    }
   ],
   "source": [
    "X_train_transform = preprocessor.fit_transform(X)\n",
    "X_train_transform.shape"
   ]
  },
  {
   "cell_type": "code",
   "execution_count": 166,
   "id": "e4f12cd9",
   "metadata": {},
   "outputs": [
    {
     "data": {
      "text/plain": [
       "(1273, 14)"
      ]
     },
     "execution_count": 166,
     "metadata": {},
     "output_type": "execute_result"
    }
   ],
   "source": [
    "transformed_df.shape"
   ]
  },
  {
   "cell_type": "code",
   "execution_count": 167,
   "id": "df747a60",
   "metadata": {},
   "outputs": [
    {
     "data": {
      "text/plain": [
       "(1273,)"
      ]
     },
     "execution_count": 167,
     "metadata": {},
     "output_type": "execute_result"
    }
   ],
   "source": [
    "y.shape"
   ]
  },
  {
   "cell_type": "code",
   "execution_count": 169,
   "id": "14da2f1d",
   "metadata": {},
   "outputs": [],
   "source": [
    "from sklearn.model_selection import train_test_split\n",
    "X_train, X_test, y_train, y_test = train_test_split(X_train_transform, y, test_size=0.2, random_state=42)"
   ]
  },
  {
   "cell_type": "code",
   "execution_count": 172,
   "id": "94ca08a8",
   "metadata": {},
   "outputs": [
    {
     "data": {
      "application/vnd.microsoft.datawrangler.viewer.v0+json": {
       "columns": [
        {
         "name": "index",
         "rawType": "int64",
         "type": "integer"
        },
        {
         "name": "Feature",
         "rawType": "object",
         "type": "string"
        },
        {
         "name": "Importance",
         "rawType": "float64",
         "type": "float"
        }
       ],
       "ref": "0432811e-0e42-49db-af60-b89e67f1be51",
       "rows": [
        [
         "17",
         "cat__Company_Vero",
         "0.6824698943621524"
        ],
        [
         "24",
         "cat__TypeName_Workstation",
         "0.45170294848926945"
        ],
        [
         "25",
         "cat__cpu_AMD Series",
         "0.43399634603741416"
        ],
        [
         "27",
         "cat__cpu_Intel Other",
         "0.39025415648106127"
        ],
        [
         "9",
         "cat__Company_LG",
         "0.3592783243269983"
        ],
        [
         "6",
         "cat__Company_Google",
         "0.3581413000543183"
        ],
        [
         "12",
         "cat__Company_Mediacom",
         "0.3545367371602493"
        ],
        [
         "1",
         "cat__Company_Apple",
         "0.34776254544742163"
        ],
        [
         "3",
         "cat__Company_Chuwi",
         "0.3411632714145283"
        ],
        [
         "13",
         "cat__Company_Microsoft",
         "0.2829455241657971"
        ],
        [
         "22",
         "cat__TypeName_Notebook",
         "0.25936808259869876"
        ],
        [
         "28",
         "cat__cpu_Others",
         "0.24692529316615852"
        ],
        [
         "34",
         "cat__os_Mac",
         "0.24404062443187816"
        ],
        [
         "35",
         "cat__os_Windows",
         "0.2434724408626071"
        ],
        [
         "21",
         "cat__TypeName_Netbook",
         "0.23972973801328035"
        ],
        [
         "15",
         "cat__Company_Samsung",
         "0.21779897733469727"
        ],
        [
         "26",
         "cat__cpu_Intel Core",
         "0.2031831036097802"
        ],
        [
         "16",
         "cat__Company_Toshiba",
         "0.17122769605310337"
        ],
        [
         "0",
         "cat__Company_Acer",
         "0.16346022148323497"
        ],
        [
         "5",
         "cat__Company_Fujitsu",
         "0.14753360252644865"
        ],
        [
         "38",
         "remainder__Touchscreen",
         "0.10945677115764944"
        ],
        [
         "18",
         "cat__Company_Xiaomi",
         "0.08770186772499859"
        ],
        [
         "2",
         "cat__Company_Asus",
         "0.0729758641808359"
        ],
        [
         "29",
         "cat__gpu_AMD",
         "0.07118266115098808"
        ],
        [
         "31",
         "cat__gpu_Nvidia",
         "0.06984202913493663"
        ],
        [
         "10",
         "cat__Company_Lenovo",
         "0.06357704492701702"
        ],
        [
         "8",
         "cat__Company_Huawei",
         "0.05939170058055843"
        ],
        [
         "11",
         "cat__Company_MSI",
         "0.03571965500512808"
        ],
        [
         "37",
         "remainder__Weight",
         "0.03099639843001656"
        ],
        [
         "20",
         "cat__TypeName_Gaming",
         "0.03036621130718804"
        ],
        [
         "7",
         "cat__Company_HP",
         "0.0294982019635613"
        ],
        [
         "19",
         "cat__TypeName_2 in 1 Convertible",
         "0.021672706332227436"
        ],
        [
         "36",
         "remainder__Ram",
         "0.0196768465515051"
        ],
        [
         "32",
         "cat__gpu_Others",
         "0.014307484479119038"
        ],
        [
         "30",
         "cat__gpu_Intel",
         "0.012966852463052353"
        ],
        [
         "23",
         "cat__TypeName_Ultrabook",
         "0.004644045516749093"
        ],
        [
         "4",
         "cat__Company_Dell",
         "0.003906798193985295"
        ],
        [
         "39",
         "remainder__PPI",
         "0.002194160785892635"
        ],
        [
         "43",
         "remainder__Flash",
         "0.0012061857067449345"
        ],
        [
         "14",
         "cat__Company_Razer",
         "0.001058957247015972"
        ],
        [
         "41",
         "remainder__SSD",
         "0.0008505341575641467"
        ],
        [
         "33",
         "cat__os_Linux/Others/No Os",
         "0.0005681835693024736"
        ],
        [
         "42",
         "remainder__Hybrid",
         "0.00021655916736489742"
        ],
        [
         "40",
         "remainder__HDD",
         "2.734453911073959e-05"
        ]
       ],
       "shape": {
        "columns": 2,
        "rows": 44
       }
      },
      "text/html": [
       "<div>\n",
       "<style scoped>\n",
       "    .dataframe tbody tr th:only-of-type {\n",
       "        vertical-align: middle;\n",
       "    }\n",
       "\n",
       "    .dataframe tbody tr th {\n",
       "        vertical-align: top;\n",
       "    }\n",
       "\n",
       "    .dataframe thead th {\n",
       "        text-align: right;\n",
       "    }\n",
       "</style>\n",
       "<table border=\"1\" class=\"dataframe\">\n",
       "  <thead>\n",
       "    <tr style=\"text-align: right;\">\n",
       "      <th></th>\n",
       "      <th>Feature</th>\n",
       "      <th>Importance</th>\n",
       "    </tr>\n",
       "  </thead>\n",
       "  <tbody>\n",
       "    <tr>\n",
       "      <th>17</th>\n",
       "      <td>cat__Company_Vero</td>\n",
       "      <td>0.682470</td>\n",
       "    </tr>\n",
       "    <tr>\n",
       "      <th>24</th>\n",
       "      <td>cat__TypeName_Workstation</td>\n",
       "      <td>0.451703</td>\n",
       "    </tr>\n",
       "    <tr>\n",
       "      <th>25</th>\n",
       "      <td>cat__cpu_AMD Series</td>\n",
       "      <td>0.433996</td>\n",
       "    </tr>\n",
       "    <tr>\n",
       "      <th>27</th>\n",
       "      <td>cat__cpu_Intel Other</td>\n",
       "      <td>0.390254</td>\n",
       "    </tr>\n",
       "    <tr>\n",
       "      <th>9</th>\n",
       "      <td>cat__Company_LG</td>\n",
       "      <td>0.359278</td>\n",
       "    </tr>\n",
       "    <tr>\n",
       "      <th>6</th>\n",
       "      <td>cat__Company_Google</td>\n",
       "      <td>0.358141</td>\n",
       "    </tr>\n",
       "    <tr>\n",
       "      <th>12</th>\n",
       "      <td>cat__Company_Mediacom</td>\n",
       "      <td>0.354537</td>\n",
       "    </tr>\n",
       "    <tr>\n",
       "      <th>1</th>\n",
       "      <td>cat__Company_Apple</td>\n",
       "      <td>0.347763</td>\n",
       "    </tr>\n",
       "    <tr>\n",
       "      <th>3</th>\n",
       "      <td>cat__Company_Chuwi</td>\n",
       "      <td>0.341163</td>\n",
       "    </tr>\n",
       "    <tr>\n",
       "      <th>13</th>\n",
       "      <td>cat__Company_Microsoft</td>\n",
       "      <td>0.282946</td>\n",
       "    </tr>\n",
       "    <tr>\n",
       "      <th>22</th>\n",
       "      <td>cat__TypeName_Notebook</td>\n",
       "      <td>0.259368</td>\n",
       "    </tr>\n",
       "    <tr>\n",
       "      <th>28</th>\n",
       "      <td>cat__cpu_Others</td>\n",
       "      <td>0.246925</td>\n",
       "    </tr>\n",
       "    <tr>\n",
       "      <th>34</th>\n",
       "      <td>cat__os_Mac</td>\n",
       "      <td>0.244041</td>\n",
       "    </tr>\n",
       "    <tr>\n",
       "      <th>35</th>\n",
       "      <td>cat__os_Windows</td>\n",
       "      <td>0.243472</td>\n",
       "    </tr>\n",
       "    <tr>\n",
       "      <th>21</th>\n",
       "      <td>cat__TypeName_Netbook</td>\n",
       "      <td>0.239730</td>\n",
       "    </tr>\n",
       "    <tr>\n",
       "      <th>15</th>\n",
       "      <td>cat__Company_Samsung</td>\n",
       "      <td>0.217799</td>\n",
       "    </tr>\n",
       "    <tr>\n",
       "      <th>26</th>\n",
       "      <td>cat__cpu_Intel Core</td>\n",
       "      <td>0.203183</td>\n",
       "    </tr>\n",
       "    <tr>\n",
       "      <th>16</th>\n",
       "      <td>cat__Company_Toshiba</td>\n",
       "      <td>0.171228</td>\n",
       "    </tr>\n",
       "    <tr>\n",
       "      <th>0</th>\n",
       "      <td>cat__Company_Acer</td>\n",
       "      <td>0.163460</td>\n",
       "    </tr>\n",
       "    <tr>\n",
       "      <th>5</th>\n",
       "      <td>cat__Company_Fujitsu</td>\n",
       "      <td>0.147534</td>\n",
       "    </tr>\n",
       "    <tr>\n",
       "      <th>38</th>\n",
       "      <td>remainder__Touchscreen</td>\n",
       "      <td>0.109457</td>\n",
       "    </tr>\n",
       "    <tr>\n",
       "      <th>18</th>\n",
       "      <td>cat__Company_Xiaomi</td>\n",
       "      <td>0.087702</td>\n",
       "    </tr>\n",
       "    <tr>\n",
       "      <th>2</th>\n",
       "      <td>cat__Company_Asus</td>\n",
       "      <td>0.072976</td>\n",
       "    </tr>\n",
       "    <tr>\n",
       "      <th>29</th>\n",
       "      <td>cat__gpu_AMD</td>\n",
       "      <td>0.071183</td>\n",
       "    </tr>\n",
       "    <tr>\n",
       "      <th>31</th>\n",
       "      <td>cat__gpu_Nvidia</td>\n",
       "      <td>0.069842</td>\n",
       "    </tr>\n",
       "    <tr>\n",
       "      <th>10</th>\n",
       "      <td>cat__Company_Lenovo</td>\n",
       "      <td>0.063577</td>\n",
       "    </tr>\n",
       "    <tr>\n",
       "      <th>8</th>\n",
       "      <td>cat__Company_Huawei</td>\n",
       "      <td>0.059392</td>\n",
       "    </tr>\n",
       "    <tr>\n",
       "      <th>11</th>\n",
       "      <td>cat__Company_MSI</td>\n",
       "      <td>0.035720</td>\n",
       "    </tr>\n",
       "    <tr>\n",
       "      <th>37</th>\n",
       "      <td>remainder__Weight</td>\n",
       "      <td>0.030996</td>\n",
       "    </tr>\n",
       "    <tr>\n",
       "      <th>20</th>\n",
       "      <td>cat__TypeName_Gaming</td>\n",
       "      <td>0.030366</td>\n",
       "    </tr>\n",
       "    <tr>\n",
       "      <th>7</th>\n",
       "      <td>cat__Company_HP</td>\n",
       "      <td>0.029498</td>\n",
       "    </tr>\n",
       "    <tr>\n",
       "      <th>19</th>\n",
       "      <td>cat__TypeName_2 in 1 Convertible</td>\n",
       "      <td>0.021673</td>\n",
       "    </tr>\n",
       "    <tr>\n",
       "      <th>36</th>\n",
       "      <td>remainder__Ram</td>\n",
       "      <td>0.019677</td>\n",
       "    </tr>\n",
       "    <tr>\n",
       "      <th>32</th>\n",
       "      <td>cat__gpu_Others</td>\n",
       "      <td>0.014307</td>\n",
       "    </tr>\n",
       "    <tr>\n",
       "      <th>30</th>\n",
       "      <td>cat__gpu_Intel</td>\n",
       "      <td>0.012967</td>\n",
       "    </tr>\n",
       "    <tr>\n",
       "      <th>23</th>\n",
       "      <td>cat__TypeName_Ultrabook</td>\n",
       "      <td>0.004644</td>\n",
       "    </tr>\n",
       "    <tr>\n",
       "      <th>4</th>\n",
       "      <td>cat__Company_Dell</td>\n",
       "      <td>0.003907</td>\n",
       "    </tr>\n",
       "    <tr>\n",
       "      <th>39</th>\n",
       "      <td>remainder__PPI</td>\n",
       "      <td>0.002194</td>\n",
       "    </tr>\n",
       "    <tr>\n",
       "      <th>43</th>\n",
       "      <td>remainder__Flash</td>\n",
       "      <td>0.001206</td>\n",
       "    </tr>\n",
       "    <tr>\n",
       "      <th>14</th>\n",
       "      <td>cat__Company_Razer</td>\n",
       "      <td>0.001059</td>\n",
       "    </tr>\n",
       "    <tr>\n",
       "      <th>41</th>\n",
       "      <td>remainder__SSD</td>\n",
       "      <td>0.000851</td>\n",
       "    </tr>\n",
       "    <tr>\n",
       "      <th>33</th>\n",
       "      <td>cat__os_Linux/Others/No Os</td>\n",
       "      <td>0.000568</td>\n",
       "    </tr>\n",
       "    <tr>\n",
       "      <th>42</th>\n",
       "      <td>remainder__Hybrid</td>\n",
       "      <td>0.000217</td>\n",
       "    </tr>\n",
       "    <tr>\n",
       "      <th>40</th>\n",
       "      <td>remainder__HDD</td>\n",
       "      <td>0.000027</td>\n",
       "    </tr>\n",
       "  </tbody>\n",
       "</table>\n",
       "</div>"
      ],
      "text/plain": [
       "                             Feature  Importance\n",
       "17                 cat__Company_Vero    0.682470\n",
       "24         cat__TypeName_Workstation    0.451703\n",
       "25               cat__cpu_AMD Series    0.433996\n",
       "27              cat__cpu_Intel Other    0.390254\n",
       "9                    cat__Company_LG    0.359278\n",
       "6                cat__Company_Google    0.358141\n",
       "12             cat__Company_Mediacom    0.354537\n",
       "1                 cat__Company_Apple    0.347763\n",
       "3                 cat__Company_Chuwi    0.341163\n",
       "13            cat__Company_Microsoft    0.282946\n",
       "22            cat__TypeName_Notebook    0.259368\n",
       "28                   cat__cpu_Others    0.246925\n",
       "34                       cat__os_Mac    0.244041\n",
       "35                   cat__os_Windows    0.243472\n",
       "21             cat__TypeName_Netbook    0.239730\n",
       "15              cat__Company_Samsung    0.217799\n",
       "26               cat__cpu_Intel Core    0.203183\n",
       "16              cat__Company_Toshiba    0.171228\n",
       "0                  cat__Company_Acer    0.163460\n",
       "5               cat__Company_Fujitsu    0.147534\n",
       "38            remainder__Touchscreen    0.109457\n",
       "18               cat__Company_Xiaomi    0.087702\n",
       "2                  cat__Company_Asus    0.072976\n",
       "29                      cat__gpu_AMD    0.071183\n",
       "31                   cat__gpu_Nvidia    0.069842\n",
       "10               cat__Company_Lenovo    0.063577\n",
       "8                cat__Company_Huawei    0.059392\n",
       "11                  cat__Company_MSI    0.035720\n",
       "37                 remainder__Weight    0.030996\n",
       "20              cat__TypeName_Gaming    0.030366\n",
       "7                    cat__Company_HP    0.029498\n",
       "19  cat__TypeName_2 in 1 Convertible    0.021673\n",
       "36                    remainder__Ram    0.019677\n",
       "32                   cat__gpu_Others    0.014307\n",
       "30                    cat__gpu_Intel    0.012967\n",
       "23           cat__TypeName_Ultrabook    0.004644\n",
       "4                  cat__Company_Dell    0.003907\n",
       "39                    remainder__PPI    0.002194\n",
       "43                  remainder__Flash    0.001206\n",
       "14                cat__Company_Razer    0.001059\n",
       "41                    remainder__SSD    0.000851\n",
       "33        cat__os_Linux/Others/No Os    0.000568\n",
       "42                 remainder__Hybrid    0.000217\n",
       "40                    remainder__HDD    0.000027"
      ]
     },
     "execution_count": 172,
     "metadata": {},
     "output_type": "execute_result"
    }
   ],
   "source": [
    "# Linear Regression Model\n",
    "from sklearn.linear_model import LinearRegression\n",
    "lin_reg = LinearRegression()\n",
    "lin_reg.fit(X_train, y_train)\n",
    "# check feature importance\n",
    "feature_names = preprocessor.get_feature_names_out()\n",
    "importance_df = pd.DataFrame({\n",
    "    'Feature': feature_names,\n",
    "    'Importance': np.abs(lin_reg.coef_)\n",
    "}).sort_values(by='Importance', ascending=False)\n",
    "importance_df"
   ]
  },
  {
   "cell_type": "code",
   "execution_count": 174,
   "id": "c3b4b83c",
   "metadata": {},
   "outputs": [
    {
     "name": "stderr",
     "output_type": "stream",
     "text": [
      "c:\\Users\\ahmad\\anaconda3\\Lib\\site-packages\\seaborn\\_oldcore.py:1498: FutureWarning: is_categorical_dtype is deprecated and will be removed in a future version. Use isinstance(dtype, CategoricalDtype) instead\n",
      "  if pd.api.types.is_categorical_dtype(vector):\n",
      "c:\\Users\\ahmad\\anaconda3\\Lib\\site-packages\\seaborn\\_oldcore.py:1498: FutureWarning: is_categorical_dtype is deprecated and will be removed in a future version. Use isinstance(dtype, CategoricalDtype) instead\n",
      "  if pd.api.types.is_categorical_dtype(vector):\n",
      "c:\\Users\\ahmad\\anaconda3\\Lib\\site-packages\\seaborn\\_oldcore.py:1498: FutureWarning: is_categorical_dtype is deprecated and will be removed in a future version. Use isinstance(dtype, CategoricalDtype) instead\n",
      "  if pd.api.types.is_categorical_dtype(vector):\n"
     ]
    },
    {
     "data": {
      "image/png": "[encoded data removed]",
      "text/plain": [
       "<Figure size 1000x600 with 1 Axes>"
      ]
     },
     "metadata": {},
     "output_type": "display_data"
    }
   ],
   "source": [
    "import matplotlib.pyplot as plt\n",
    "import seaborn as sns\n",
    "\n",
    "# Plot top 20 most important features\n",
    "top_n = 20\n",
    "top_features = importance_df.head(top_n)\n",
    "\n",
    "plt.figure(figsize=(10, 6))\n",
    "sns.barplot(x='Importance', y='Feature', data=top_features, palette='viridis')\n",
    "plt.title(f'Top {top_n} Feature Importances (Linear Regression)')\n",
    "plt.xlabel('Importance (|Coefficient|)')\n",
    "plt.ylabel('Feature')\n",
    "plt.tight_layout()\n",
    "plt.show()\n"
   ]
  },
  {
   "cell_type": "code",
   "execution_count": 176,
   "id": "75f011ee",
   "metadata": {},
   "outputs": [
    {
     "data": {
      "application/vnd.microsoft.datawrangler.viewer.v0+json": {
       "columns": [
        {
         "name": "index",
         "rawType": "int64",
         "type": "integer"
        },
        {
         "name": "Feature",
         "rawType": "object",
         "type": "string"
        },
        {
         "name": "Importance",
         "rawType": "float64",
         "type": "float"
        }
       ],
       "ref": "5dbaf16f-e995-40e6-b5ba-78d8d4a0eb8c",
       "rows": [
        [
         "36",
         "remainder__Ram",
         "0.5820217658410332"
        ],
        [
         "37",
         "remainder__Weight",
         "0.08564973429358874"
        ],
        [
         "26",
         "cat__cpu_Intel Core",
         "0.07803729214703697"
        ],
        [
         "22",
         "cat__TypeName_Notebook",
         "0.0674846715930118"
        ],
        [
         "39",
         "remainder__PPI",
         "0.051361283741967474"
        ],
        [
         "41",
         "remainder__SSD",
         "0.036355734934186736"
        ],
        [
         "33",
         "cat__os_Linux/Others/No Os",
         "0.01099373720532234"
        ],
        [
         "24",
         "cat__TypeName_Workstation",
         "0.008823751009789662"
        ],
        [
         "35",
         "cat__os_Windows",
         "0.00866506738897929"
        ],
        [
         "40",
         "remainder__HDD",
         "0.007201115414244392"
        ],
        [
         "7",
         "cat__Company_HP",
         "0.006855714841788068"
        ],
        [
         "30",
         "cat__gpu_Intel",
         "0.005877576137000593"
        ],
        [
         "10",
         "cat__Company_Lenovo",
         "0.0058464306772010866"
        ],
        [
         "2",
         "cat__Company_Asus",
         "0.005704454730814443"
        ],
        [
         "0",
         "cat__Company_Acer",
         "0.004622690432933521"
        ],
        [
         "4",
         "cat__Company_Dell",
         "0.004358387864251837"
        ],
        [
         "29",
         "cat__gpu_AMD",
         "0.0036933244705282635"
        ],
        [
         "38",
         "remainder__Touchscreen",
         "0.003459536682414077"
        ],
        [
         "31",
         "cat__gpu_Nvidia",
         "0.0029650965091989234"
        ],
        [
         "27",
         "cat__cpu_Intel Other",
         "0.0028220562685165483"
        ],
        [
         "14",
         "cat__Company_Razer",
         "0.002536751921368095"
        ],
        [
         "19",
         "cat__TypeName_2 in 1 Convertible",
         "0.001874609933330448"
        ],
        [
         "23",
         "cat__TypeName_Ultrabook",
         "0.001865293569086712"
        ],
        [
         "16",
         "cat__Company_Toshiba",
         "0.0016906439101844193"
        ],
        [
         "21",
         "cat__TypeName_Netbook",
         "0.0016257275832961826"
        ],
        [
         "20",
         "cat__TypeName_Gaming",
         "0.0014725432373440394"
        ],
        [
         "43",
         "remainder__Flash",
         "0.0012714708325497414"
        ],
        [
         "17",
         "cat__Company_Vero",
         "0.001235109634228258"
        ],
        [
         "11",
         "cat__Company_MSI",
         "0.0009423161682163745"
        ],
        [
         "28",
         "cat__cpu_Others",
         "0.0006288213975101984"
        ],
        [
         "18",
         "cat__Company_Xiaomi",
         "0.0004968928904081196"
        ],
        [
         "42",
         "remainder__Hybrid",
         "0.0002940275854775534"
        ],
        [
         "15",
         "cat__Company_Samsung",
         "0.00027437175618256484"
        ],
        [
         "1",
         "cat__Company_Apple",
         "0.00023512343592790223"
        ],
        [
         "12",
         "cat__Company_Mediacom",
         "0.00023353300750269534"
        ],
        [
         "3",
         "cat__Company_Chuwi",
         "0.00012090766664124402"
        ],
        [
         "13",
         "cat__Company_Microsoft",
         "8.578338060606668e-05"
        ],
        [
         "5",
         "cat__Company_Fujitsu",
         "8.42955385595101e-05"
        ],
        [
         "34",
         "cat__os_Mac",
         "7.34540345831915e-05"
        ],
        [
         "9",
         "cat__Company_LG",
         "6.42852146589105e-05"
        ],
        [
         "8",
         "cat__Company_Huawei",
         "3.614172642268909e-05"
        ],
        [
         "6",
         "cat__Company_Google",
         "3.277929440008392e-05"
        ],
        [
         "25",
         "cat__cpu_AMD Series",
         "2.1401324414919357e-05"
        ],
        [
         "32",
         "cat__gpu_Others",
         "4.292773292100348e-06"
        ]
       ],
       "shape": {
        "columns": 2,
        "rows": 44
       }
      },
      "text/html": [
       "<div>\n",
       "<style scoped>\n",
       "    .dataframe tbody tr th:only-of-type {\n",
       "        vertical-align: middle;\n",
       "    }\n",
       "\n",
       "    .dataframe tbody tr th {\n",
       "        vertical-align: top;\n",
       "    }\n",
       "\n",
       "    .dataframe thead th {\n",
       "        text-align: right;\n",
       "    }\n",
       "</style>\n",
       "<table border=\"1\" class=\"dataframe\">\n",
       "  <thead>\n",
       "    <tr style=\"text-align: right;\">\n",
       "      <th></th>\n",
       "      <th>Feature</th>\n",
       "      <th>Importance</th>\n",
       "    </tr>\n",
       "  </thead>\n",
       "  <tbody>\n",
       "    <tr>\n",
       "      <th>36</th>\n",
       "      <td>remainder__Ram</td>\n",
       "      <td>0.582022</td>\n",
       "    </tr>\n",
       "    <tr>\n",
       "      <th>37</th>\n",
       "      <td>remainder__Weight</td>\n",
       "      <td>0.085650</td>\n",
       "    </tr>\n",
       "    <tr>\n",
       "      <th>26</th>\n",
       "      <td>cat__cpu_Intel Core</td>\n",
       "      <td>0.078037</td>\n",
       "    </tr>\n",
       "    <tr>\n",
       "      <th>22</th>\n",
       "      <td>cat__TypeName_Notebook</td>\n",
       "      <td>0.067485</td>\n",
       "    </tr>\n",
       "    <tr>\n",
       "      <th>39</th>\n",
       "      <td>remainder__PPI</td>\n",
       "      <td>0.051361</td>\n",
       "    </tr>\n",
       "    <tr>\n",
       "      <th>41</th>\n",
       "      <td>remainder__SSD</td>\n",
       "      <td>0.036356</td>\n",
       "    </tr>\n",
       "    <tr>\n",
       "      <th>33</th>\n",
       "      <td>cat__os_Linux/Others/No Os</td>\n",
       "      <td>0.010994</td>\n",
       "    </tr>\n",
       "    <tr>\n",
       "      <th>24</th>\n",
       "      <td>cat__TypeName_Workstation</td>\n",
       "      <td>0.008824</td>\n",
       "    </tr>\n",
       "    <tr>\n",
       "      <th>35</th>\n",
       "      <td>cat__os_Windows</td>\n",
       "      <td>0.008665</td>\n",
       "    </tr>\n",
       "    <tr>\n",
       "      <th>40</th>\n",
       "      <td>remainder__HDD</td>\n",
       "      <td>0.007201</td>\n",
       "    </tr>\n",
       "    <tr>\n",
       "      <th>7</th>\n",
       "      <td>cat__Company_HP</td>\n",
       "      <td>0.006856</td>\n",
       "    </tr>\n",
       "    <tr>\n",
       "      <th>30</th>\n",
       "      <td>cat__gpu_Intel</td>\n",
       "      <td>0.005878</td>\n",
       "    </tr>\n",
       "    <tr>\n",
       "      <th>10</th>\n",
       "      <td>cat__Company_Lenovo</td>\n",
       "      <td>0.005846</td>\n",
       "    </tr>\n",
       "    <tr>\n",
       "      <th>2</th>\n",
       "      <td>cat__Company_Asus</td>\n",
       "      <td>0.005704</td>\n",
       "    </tr>\n",
       "    <tr>\n",
       "      <th>0</th>\n",
       "      <td>cat__Company_Acer</td>\n",
       "      <td>0.004623</td>\n",
       "    </tr>\n",
       "    <tr>\n",
       "      <th>4</th>\n",
       "      <td>cat__Company_Dell</td>\n",
       "      <td>0.004358</td>\n",
       "    </tr>\n",
       "    <tr>\n",
       "      <th>29</th>\n",
       "      <td>cat__gpu_AMD</td>\n",
       "      <td>0.003693</td>\n",
       "    </tr>\n",
       "    <tr>\n",
       "      <th>38</th>\n",
       "      <td>remainder__Touchscreen</td>\n",
       "      <td>0.003460</td>\n",
       "    </tr>\n",
       "    <tr>\n",
       "      <th>31</th>\n",
       "      <td>cat__gpu_Nvidia</td>\n",
       "      <td>0.002965</td>\n",
       "    </tr>\n",
       "    <tr>\n",
       "      <th>27</th>\n",
       "      <td>cat__cpu_Intel Other</td>\n",
       "      <td>0.002822</td>\n",
       "    </tr>\n",
       "    <tr>\n",
       "      <th>14</th>\n",
       "      <td>cat__Company_Razer</td>\n",
       "      <td>0.002537</td>\n",
       "    </tr>\n",
       "    <tr>\n",
       "      <th>19</th>\n",
       "      <td>cat__TypeName_2 in 1 Convertible</td>\n",
       "      <td>0.001875</td>\n",
       "    </tr>\n",
       "    <tr>\n",
       "      <th>23</th>\n",
       "      <td>cat__TypeName_Ultrabook</td>\n",
       "      <td>0.001865</td>\n",
       "    </tr>\n",
       "    <tr>\n",
       "      <th>16</th>\n",
       "      <td>cat__Company_Toshiba</td>\n",
       "      <td>0.001691</td>\n",
       "    </tr>\n",
       "    <tr>\n",
       "      <th>21</th>\n",
       "      <td>cat__TypeName_Netbook</td>\n",
       "      <td>0.001626</td>\n",
       "    </tr>\n",
       "    <tr>\n",
       "      <th>20</th>\n",
       "      <td>cat__TypeName_Gaming</td>\n",
       "      <td>0.001473</td>\n",
       "    </tr>\n",
       "    <tr>\n",
       "      <th>43</th>\n",
       "      <td>remainder__Flash</td>\n",
       "      <td>0.001271</td>\n",
       "    </tr>\n",
       "    <tr>\n",
       "      <th>17</th>\n",
       "      <td>cat__Company_Vero</td>\n",
       "      <td>0.001235</td>\n",
       "    </tr>\n",
       "    <tr>\n",
       "      <th>11</th>\n",
       "      <td>cat__Company_MSI</td>\n",
       "      <td>0.000942</td>\n",
       "    </tr>\n",
       "    <tr>\n",
       "      <th>28</th>\n",
       "      <td>cat__cpu_Others</td>\n",
       "      <td>0.000629</td>\n",
       "    </tr>\n",
       "    <tr>\n",
       "      <th>18</th>\n",
       "      <td>cat__Company_Xiaomi</td>\n",
       "      <td>0.000497</td>\n",
       "    </tr>\n",
       "    <tr>\n",
       "      <th>42</th>\n",
       "      <td>remainder__Hybrid</td>\n",
       "      <td>0.000294</td>\n",
       "    </tr>\n",
       "    <tr>\n",
       "      <th>15</th>\n",
       "      <td>cat__Company_Samsung</td>\n",
       "      <td>0.000274</td>\n",
       "    </tr>\n",
       "    <tr>\n",
       "      <th>1</th>\n",
       "      <td>cat__Company_Apple</td>\n",
       "      <td>0.000235</td>\n",
       "    </tr>\n",
       "    <tr>\n",
       "      <th>12</th>\n",
       "      <td>cat__Company_Mediacom</td>\n",
       "      <td>0.000234</td>\n",
       "    </tr>\n",
       "    <tr>\n",
       "      <th>3</th>\n",
       "      <td>cat__Company_Chuwi</td>\n",
       "      <td>0.000121</td>\n",
       "    </tr>\n",
       "    <tr>\n",
       "      <th>13</th>\n",
       "      <td>cat__Company_Microsoft</td>\n",
       "      <td>0.000086</td>\n",
       "    </tr>\n",
       "    <tr>\n",
       "      <th>5</th>\n",
       "      <td>cat__Company_Fujitsu</td>\n",
       "      <td>0.000084</td>\n",
       "    </tr>\n",
       "    <tr>\n",
       "      <th>34</th>\n",
       "      <td>cat__os_Mac</td>\n",
       "      <td>0.000073</td>\n",
       "    </tr>\n",
       "    <tr>\n",
       "      <th>9</th>\n",
       "      <td>cat__Company_LG</td>\n",
       "      <td>0.000064</td>\n",
       "    </tr>\n",
       "    <tr>\n",
       "      <th>8</th>\n",
       "      <td>cat__Company_Huawei</td>\n",
       "      <td>0.000036</td>\n",
       "    </tr>\n",
       "    <tr>\n",
       "      <th>6</th>\n",
       "      <td>cat__Company_Google</td>\n",
       "      <td>0.000033</td>\n",
       "    </tr>\n",
       "    <tr>\n",
       "      <th>25</th>\n",
       "      <td>cat__cpu_AMD Series</td>\n",
       "      <td>0.000021</td>\n",
       "    </tr>\n",
       "    <tr>\n",
       "      <th>32</th>\n",
       "      <td>cat__gpu_Others</td>\n",
       "      <td>0.000004</td>\n",
       "    </tr>\n",
       "  </tbody>\n",
       "</table>\n",
       "</div>"
      ],
      "text/plain": [
       "                             Feature  Importance\n",
       "36                    remainder__Ram    0.582022\n",
       "37                 remainder__Weight    0.085650\n",
       "26               cat__cpu_Intel Core    0.078037\n",
       "22            cat__TypeName_Notebook    0.067485\n",
       "39                    remainder__PPI    0.051361\n",
       "41                    remainder__SSD    0.036356\n",
       "33        cat__os_Linux/Others/No Os    0.010994\n",
       "24         cat__TypeName_Workstation    0.008824\n",
       "35                   cat__os_Windows    0.008665\n",
       "40                    remainder__HDD    0.007201\n",
       "7                    cat__Company_HP    0.006856\n",
       "30                    cat__gpu_Intel    0.005878\n",
       "10               cat__Company_Lenovo    0.005846\n",
       "2                  cat__Company_Asus    0.005704\n",
       "0                  cat__Company_Acer    0.004623\n",
       "4                  cat__Company_Dell    0.004358\n",
       "29                      cat__gpu_AMD    0.003693\n",
       "38            remainder__Touchscreen    0.003460\n",
       "31                   cat__gpu_Nvidia    0.002965\n",
       "27              cat__cpu_Intel Other    0.002822\n",
       "14                cat__Company_Razer    0.002537\n",
       "19  cat__TypeName_2 in 1 Convertible    0.001875\n",
       "23           cat__TypeName_Ultrabook    0.001865\n",
       "16              cat__Company_Toshiba    0.001691\n",
       "21             cat__TypeName_Netbook    0.001626\n",
       "20              cat__TypeName_Gaming    0.001473\n",
       "43                  remainder__Flash    0.001271\n",
       "17                 cat__Company_Vero    0.001235\n",
       "11                  cat__Company_MSI    0.000942\n",
       "28                   cat__cpu_Others    0.000629\n",
       "18               cat__Company_Xiaomi    0.000497\n",
       "42                 remainder__Hybrid    0.000294\n",
       "15              cat__Company_Samsung    0.000274\n",
       "1                 cat__Company_Apple    0.000235\n",
       "12             cat__Company_Mediacom    0.000234\n",
       "3                 cat__Company_Chuwi    0.000121\n",
       "13            cat__Company_Microsoft    0.000086\n",
       "5               cat__Company_Fujitsu    0.000084\n",
       "34                       cat__os_Mac    0.000073\n",
       "9                    cat__Company_LG    0.000064\n",
       "8                cat__Company_Huawei    0.000036\n",
       "6                cat__Company_Google    0.000033\n",
       "25               cat__cpu_AMD Series    0.000021\n",
       "32                   cat__gpu_Others    0.000004"
      ]
     },
     "execution_count": 176,
     "metadata": {},
     "output_type": "execute_result"
    }
   ],
   "source": [
    "# random forest model\n",
    "from sklearn.ensemble import RandomForestRegressor\n",
    "rf = RandomForestRegressor(n_estimators=100, random_state=42)\n",
    "rf.fit(X_train, y_train)\n",
    "# Get feature names\n",
    "feature_names = preprocessor.get_feature_names_out()\n",
    "# Get feature importances\n",
    "importances = rf.feature_importances_\n",
    "# Build dataframe\n",
    "importance_df = pd.DataFrame({\n",
    "    'Feature': feature_names,\n",
    "    'Importance': importances\n",
    "}).sort_values(by='Importance', ascending=False)\n",
    "importance_df"
   ]
  },
  {
   "cell_type": "code",
   "execution_count": 177,
   "id": "26a616ec",
   "metadata": {},
   "outputs": [
    {
     "name": "stderr",
     "output_type": "stream",
     "text": [
      "c:\\Users\\ahmad\\anaconda3\\Lib\\site-packages\\seaborn\\_oldcore.py:1498: FutureWarning: is_categorical_dtype is deprecated and will be removed in a future version. Use isinstance(dtype, CategoricalDtype) instead\n",
      "  if pd.api.types.is_categorical_dtype(vector):\n",
      "c:\\Users\\ahmad\\anaconda3\\Lib\\site-packages\\seaborn\\_oldcore.py:1498: FutureWarning: is_categorical_dtype is deprecated and will be removed in a future version. Use isinstance(dtype, CategoricalDtype) instead\n",
      "  if pd.api.types.is_categorical_dtype(vector):\n",
      "c:\\Users\\ahmad\\anaconda3\\Lib\\site-packages\\seaborn\\_oldcore.py:1498: FutureWarning: is_categorical_dtype is deprecated and will be removed in a future version. Use isinstance(dtype, CategoricalDtype) instead\n",
      "  if pd.api.types.is_categorical_dtype(vector):\n"
     ]
    },
    {
     "data": {
      "image/png": "[encoded data removed]",
      "text/plain": [
       "<Figure size 1000x600 with 1 Axes>"
      ]
     },
     "metadata": {},
     "output_type": "display_data"
    }
   ],
   "source": [
    "# Plot top 20 most important features\n",
    "top_n = 20\n",
    "top_features = importance_df.head(top_n)\n",
    "\n",
    "plt.figure(figsize=(10, 6))\n",
    "sns.barplot(x='Importance', y='Feature', data=top_features, palette='magma')\n",
    "plt.title(f'Top {top_n} Feature Importances (Random Forest)')\n",
    "plt.xlabel('Importance (Gini Importance)')\n",
    "plt.ylabel('Feature')\n",
    "plt.tight_layout()\n",
    "plt.show()\n"
   ]
  },
  {
   "cell_type": "markdown",
   "id": "fc54f78a",
   "metadata": {},
   "source": [
    "### Create a ProfileReport of the Data"
   ]
  },
  {
   "cell_type": "code",
   "execution_count": null,
   "id": "26dd2a4d",
   "metadata": {},
   "outputs": [],
   "source": [
    "from ydata_profiling import ProfileReport\n",
    "\n",
    "profile = ProfileReport(laptop, title=\"Laptop Profile\")\n",
    "\n",
    "profile.to_notebook_iframe()\n",
    "profile.to_file(\"laptop.html\")"
   ]
  }
 ],
 "metadata": {
  "kernelspec": {
   "display_name": "base",
   "language": "python",
   "name": "python3"
  },
  "language_info": {
   "codemirror_mode": {
    "name": "ipython",
    "version": 3
   },
   "file_extension": ".py",
   "mimetype": "text/x-python",
   "name": "python",
   "nbconvert_exporter": "python",
   "pygments_lexer": "ipython3",
   "version": "3.11.5"
  }
 },
 "nbformat": 4,
 "nbformat_minor": 5
}
